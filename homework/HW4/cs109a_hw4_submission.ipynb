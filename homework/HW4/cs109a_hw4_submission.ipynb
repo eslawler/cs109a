{
 "cells": [
  {
   "cell_type": "markdown",
   "metadata": {},
   "source": [
    "# <img style=\"float: left; padding-right: 10px; width: 45px\" src=\"fig/iacs.png\"> S-109A Introduction to Data Science \n",
    "## Homework 4 - Regularization \n",
    "\n",
    "\n",
    "\n",
    "**Harvard University**<br/>\n",
    "**Summer 2018**<br/>\n",
    "**Instructors**: Pavlos Protopapas, Kevin Rader\n",
    "\n",
    "<hr style=\"height:2pt\">"
   ]
  },
  {
   "cell_type": "markdown",
   "metadata": {},
   "source": [
    "### INSTRUCTIONS\n",
    "\n",
    "- To submit your assignment follow the instructions given in canvas.\n",
    "- Restart the kernel and run the whole notebook again before you submit. \n",
    "- If you submit individually and you have worked with someone, please include the name of your [one] partner below. \n",
    "\n",
    "Names of people you have worked with goes here: \n",
    "\n",
    "<hr style=\"height:2pt\">"
   ]
  },
  {
   "cell_type": "code",
   "execution_count": 1,
   "metadata": {},
   "outputs": [
    {
     "data": {
      "text/html": [
       "<style>\n",
       "h1 { \n",
       "    padding-top: 25px;\n",
       "    padding-bottom: 25px;\n",
       "    text-align: left; \n",
       "    padding-left: 10px;\n",
       "    background-color: #DDDDDD; \n",
       "    color: black;\n",
       "}\n",
       "div.exercise {\n",
       "\tbackground-color: #ffcccc;\n",
       "\tborder-color: #E9967A; \t\n",
       "\tborder-left: 5px solid #800080; \n",
       "\tpadding: 0.5em;\n",
       "}\n",
       "div.theme {\n",
       "\tbackground-color: #DDDDDD;\n",
       "\tborder-color: #E9967A; \t\n",
       "\tborder-left: 5px solid #800080; \n",
       "\tpadding: 0.5em;\n",
       "\tfont-size: 18pt;\n",
       "}\n",
       "p.q1 { \n",
       "    padding-top: 5px;\n",
       "    padding-bottom: 5px;\n",
       "    text-align: left; \n",
       "    padding-left: 5px;\n",
       "    background-color: #EEEEEE; \n",
       "    color: black;\n",
       "}\n",
       "header {\n",
       "   padding-top: 35px;\n",
       "    padding-bottom: 35px;\n",
       "    text-align: left; \n",
       "    padding-left: 10px;\n",
       "    background-color: #DDDDDD; \n",
       "    color: black;\n",
       "}\n",
       "</style>\n",
       "\n"
      ],
      "text/plain": [
       "<IPython.core.display.HTML object>"
      ]
     },
     "execution_count": 1,
     "metadata": {},
     "output_type": "execute_result"
    }
   ],
   "source": [
    "from IPython.core.display import HTML\n",
    "def css_styling(): styles = open(\"cs109.css\", \"r\").read(); return HTML(styles)\n",
    "css_styling()"
   ]
  },
  {
   "cell_type": "markdown",
   "metadata": {},
   "source": [
    "import these libraries"
   ]
  },
  {
   "cell_type": "code",
   "execution_count": 2,
   "metadata": {},
   "outputs": [],
   "source": [
    "import warnings\n",
    "warnings.filterwarnings('ignore')\n",
    "import numpy as np\n",
    "import pandas as pd\n",
    "import matplotlib\n",
    "import matplotlib.pyplot as plt\n",
    "from sklearn.metrics import r2_score\n",
    "from sklearn.preprocessing import PolynomialFeatures\n",
    "from sklearn.linear_model import Ridge\n",
    "from sklearn.linear_model import Lasso\n",
    "from sklearn.linear_model import RidgeCV\n",
    "from sklearn.linear_model import LassoCV\n",
    "from sklearn.linear_model import LinearRegression\n",
    "from sklearn.preprocessing import StandardScaler\n",
    "\n",
    "from sklearn.model_selection import cross_val_score\n",
    "from sklearn.model_selection import LeaveOneOut\n",
    "from sklearn.model_selection import KFold\n",
    "\n",
    "#import statsmodels.api as sm\n",
    "\n",
    "from pandas.core import datetools\n",
    "%matplotlib inline"
   ]
  },
  {
   "cell_type": "markdown",
   "metadata": {},
   "source": [
    "# Continuing Bike Sharing Usage Data\n",
    "\n",
    "In this homework, we will focus on regularization and cross validation. We will continue to build regression models for the Capital Bikeshare program in Washington D.C.  See homework 3 for more information about the Capital Bikeshare data that we'll be using extensively. \n",
    "\n"
   ]
  },
  {
   "cell_type": "markdown",
   "metadata": {},
   "source": [
    "## Data Preparation\n",
    "\n",
    "\n",
    "\n",
    "<div class='exercise'> <b> Question 1 </b> </div> \n",
    "  In HW3 Questions 1-3, you preprocessed the data in preparation for your regression analysis. We ask you to repeat those steps (particularly those in Question 3) so that we can compare the analysis models in this HW with those you developed in HW3.  In this HW we'll be using models from sklearn exclusively (as opposed to statsmodels)\n",
    "  \n",
    "**1.1** [From HW3] Read `data/BSS_train.csv` and `data/BSS_test.csv` into dataframes `BSS_train` and `BSS_test`, respectively.  Remove the `dteday` column from both train and test dataset. We do not need it, and its format cannot be used for analysis.  Also remove the `casual` and `registered` columns for both training and test datasets as they make  `count` trivial.   \n",
    "\n",
    "**1.2** Since we'll be exploring Regularization and Polynomial Features, it will make sense to standardize our data.  Standardize the numerical features. Store the dataframes for the processed training and test predictors into the variables `X_train` and `X_test`.  Store the appropriately shaped numpy arrays for the corresponding train and test `count` columns into `y_train` and `y_test`.\n",
    "\n",
    "**1.3** Use the `LinearRegression` library from `sklearn` to fit a multiple linear regression model to the training set data in `X_train`.  Store the fitted model in the variable `BikeOLSModel`.\n",
    "\n",
    "**1.4** What are the training and test set $R^2$ scores?  Store the training and test $R^2$ scores of the `BikeOLSModel` in a dictionary `BikeOLS_r2scores` using the string 'training' and 'test' as keys.  \n",
    "\n",
    "**1.5**   We're going to use bootstrapped confidence intervals (use 500 bootstrap iterations) to determine which of the estimated coefficients for the `BikeOLSModel` are statistically significant at a significance level of 5% .  We'll do so by creating 3 different functions:\n",
    "\n",
    "1. `make_bootstrap_sample(dataset_X, dataset_y)` returns a bootstrap sample of `dataset_X` and `dataset_y`\n",
    "2. `calculate_coefficients(dataset_X, dataset_y, model)` returns in the form of a dictionary regression coefficients calculated by your model on `dataset_X` and `dataset_y`.  The keys for regression coefficients dictionary should be the names of the features.  The values should be the coefficient values of that feature calculated on your model.  An example would be {'hum': 12.3, 'windspeed': -1.2, 'Sunday': 0.6 ... }\n",
    "3. `get_significant_predictors(regression_coefficients, significance_level)` takes as input a list of regression coefficient dictionaries (each one the output of `calculate_coefficients` and  returns a python list of the feature names of the significant predictors e.g. ['Monday', 'hum', 'holiday', ... ]\n",
    "\n",
    "In the above functions `dataset_X` should always be a pandas dataframe with your features, `dataset_y` a numpy column vector with the values of the response variable and collectively they form the dataset upon which the operations take place. `model` is the `sklearn` regression model that will be used to generate the regression coefficients. `regression_coefficients` is a list of dictionaries of numpy arrays with each numpy array containing the regression coefficients (not including the intercept) calculated from one bootstrap sample.  `significance_level` represents the significance level as a floating point number.  So a 5% significance level should be represented as 0.05.  \n",
    "\n",
    "\n",
    "Store the feature names as a list of strings in the variable `BikeOLS_significant_bootstrap` and print them for your answer.\n"
   ]
  },
  {
   "cell_type": "markdown",
   "metadata": {},
   "source": [
    "### Answers"
   ]
  },
  {
   "cell_type": "markdown",
   "metadata": {},
   "source": [
    "#### 1.1 Read `data/BSS_train.csv` and `data/BSS_test.csv` into Pandas DataFrames"
   ]
  },
  {
   "cell_type": "code",
   "execution_count": 3,
   "metadata": {},
   "outputs": [],
   "source": [
    "BSS_train = pd.read_csv('data/BSS_train.csv', index_col = 0)\n",
    "BSS_test= pd.read_csv('data/BSS_test.csv', index_col = 0)"
   ]
  },
  {
   "cell_type": "code",
   "execution_count": 4,
   "metadata": {},
   "outputs": [
    {
     "data": {
      "text/html": [
       "<div>\n",
       "<style scoped>\n",
       "    .dataframe tbody tr th:only-of-type {\n",
       "        vertical-align: middle;\n",
       "    }\n",
       "\n",
       "    .dataframe tbody tr th {\n",
       "        vertical-align: top;\n",
       "    }\n",
       "\n",
       "    .dataframe thead th {\n",
       "        text-align: right;\n",
       "    }\n",
       "</style>\n",
       "<table border=\"1\" class=\"dataframe\">\n",
       "  <thead>\n",
       "    <tr style=\"text-align: right;\">\n",
       "      <th></th>\n",
       "      <th>dteday</th>\n",
       "      <th>hour</th>\n",
       "      <th>holiday</th>\n",
       "      <th>year</th>\n",
       "      <th>workingday</th>\n",
       "      <th>temp</th>\n",
       "      <th>atemp</th>\n",
       "      <th>hum</th>\n",
       "      <th>windspeed</th>\n",
       "      <th>casual</th>\n",
       "      <th>...</th>\n",
       "      <th>Dec</th>\n",
       "      <th>Mon</th>\n",
       "      <th>Tue</th>\n",
       "      <th>Wed</th>\n",
       "      <th>Thu</th>\n",
       "      <th>Fri</th>\n",
       "      <th>Sat</th>\n",
       "      <th>Cloudy</th>\n",
       "      <th>Snow</th>\n",
       "      <th>Storm</th>\n",
       "    </tr>\n",
       "  </thead>\n",
       "  <tbody>\n",
       "    <tr>\n",
       "      <th>0</th>\n",
       "      <td>2011-01-01</td>\n",
       "      <td>0</td>\n",
       "      <td>0</td>\n",
       "      <td>0</td>\n",
       "      <td>0</td>\n",
       "      <td>0.24</td>\n",
       "      <td>0.2879</td>\n",
       "      <td>0.81</td>\n",
       "      <td>0.0</td>\n",
       "      <td>3</td>\n",
       "      <td>...</td>\n",
       "      <td>0</td>\n",
       "      <td>0</td>\n",
       "      <td>0</td>\n",
       "      <td>0</td>\n",
       "      <td>0</td>\n",
       "      <td>0</td>\n",
       "      <td>1</td>\n",
       "      <td>0</td>\n",
       "      <td>0</td>\n",
       "      <td>0</td>\n",
       "    </tr>\n",
       "    <tr>\n",
       "      <th>1</th>\n",
       "      <td>2011-01-01</td>\n",
       "      <td>1</td>\n",
       "      <td>0</td>\n",
       "      <td>0</td>\n",
       "      <td>0</td>\n",
       "      <td>0.22</td>\n",
       "      <td>0.2727</td>\n",
       "      <td>0.80</td>\n",
       "      <td>0.0</td>\n",
       "      <td>8</td>\n",
       "      <td>...</td>\n",
       "      <td>0</td>\n",
       "      <td>0</td>\n",
       "      <td>0</td>\n",
       "      <td>0</td>\n",
       "      <td>0</td>\n",
       "      <td>0</td>\n",
       "      <td>1</td>\n",
       "      <td>0</td>\n",
       "      <td>0</td>\n",
       "      <td>0</td>\n",
       "    </tr>\n",
       "    <tr>\n",
       "      <th>2</th>\n",
       "      <td>2011-01-01</td>\n",
       "      <td>2</td>\n",
       "      <td>0</td>\n",
       "      <td>0</td>\n",
       "      <td>0</td>\n",
       "      <td>0.22</td>\n",
       "      <td>0.2727</td>\n",
       "      <td>0.80</td>\n",
       "      <td>0.0</td>\n",
       "      <td>5</td>\n",
       "      <td>...</td>\n",
       "      <td>0</td>\n",
       "      <td>0</td>\n",
       "      <td>0</td>\n",
       "      <td>0</td>\n",
       "      <td>0</td>\n",
       "      <td>0</td>\n",
       "      <td>1</td>\n",
       "      <td>0</td>\n",
       "      <td>0</td>\n",
       "      <td>0</td>\n",
       "    </tr>\n",
       "    <tr>\n",
       "      <th>3</th>\n",
       "      <td>2011-01-01</td>\n",
       "      <td>3</td>\n",
       "      <td>0</td>\n",
       "      <td>0</td>\n",
       "      <td>0</td>\n",
       "      <td>0.24</td>\n",
       "      <td>0.2879</td>\n",
       "      <td>0.75</td>\n",
       "      <td>0.0</td>\n",
       "      <td>3</td>\n",
       "      <td>...</td>\n",
       "      <td>0</td>\n",
       "      <td>0</td>\n",
       "      <td>0</td>\n",
       "      <td>0</td>\n",
       "      <td>0</td>\n",
       "      <td>0</td>\n",
       "      <td>1</td>\n",
       "      <td>0</td>\n",
       "      <td>0</td>\n",
       "      <td>0</td>\n",
       "    </tr>\n",
       "    <tr>\n",
       "      <th>4</th>\n",
       "      <td>2011-01-01</td>\n",
       "      <td>4</td>\n",
       "      <td>0</td>\n",
       "      <td>0</td>\n",
       "      <td>0</td>\n",
       "      <td>0.24</td>\n",
       "      <td>0.2879</td>\n",
       "      <td>0.75</td>\n",
       "      <td>0.0</td>\n",
       "      <td>0</td>\n",
       "      <td>...</td>\n",
       "      <td>0</td>\n",
       "      <td>0</td>\n",
       "      <td>0</td>\n",
       "      <td>0</td>\n",
       "      <td>0</td>\n",
       "      <td>0</td>\n",
       "      <td>1</td>\n",
       "      <td>0</td>\n",
       "      <td>0</td>\n",
       "      <td>0</td>\n",
       "    </tr>\n",
       "  </tbody>\n",
       "</table>\n",
       "<p>5 rows × 35 columns</p>\n",
       "</div>"
      ],
      "text/plain": [
       "       dteday  hour  holiday  year  workingday  temp   atemp   hum  windspeed  \\\n",
       "0  2011-01-01     0        0     0           0  0.24  0.2879  0.81        0.0   \n",
       "1  2011-01-01     1        0     0           0  0.22  0.2727  0.80        0.0   \n",
       "2  2011-01-01     2        0     0           0  0.22  0.2727  0.80        0.0   \n",
       "3  2011-01-01     3        0     0           0  0.24  0.2879  0.75        0.0   \n",
       "4  2011-01-01     4        0     0           0  0.24  0.2879  0.75        0.0   \n",
       "\n",
       "   casual  ...    Dec  Mon  Tue  Wed  Thu  Fri  Sat  Cloudy  Snow  Storm  \n",
       "0       3  ...      0    0    0    0    0    0    1       0     0      0  \n",
       "1       8  ...      0    0    0    0    0    0    1       0     0      0  \n",
       "2       5  ...      0    0    0    0    0    0    1       0     0      0  \n",
       "3       3  ...      0    0    0    0    0    0    1       0     0      0  \n",
       "4       0  ...      0    0    0    0    0    0    1       0     0      0  \n",
       "\n",
       "[5 rows x 35 columns]"
      ]
     },
     "execution_count": 4,
     "metadata": {},
     "output_type": "execute_result"
    }
   ],
   "source": [
    "BSS_train.head()"
   ]
  },
  {
   "cell_type": "code",
   "execution_count": 5,
   "metadata": {},
   "outputs": [
    {
     "data": {
      "text/html": [
       "<div>\n",
       "<style scoped>\n",
       "    .dataframe tbody tr th:only-of-type {\n",
       "        vertical-align: middle;\n",
       "    }\n",
       "\n",
       "    .dataframe tbody tr th {\n",
       "        vertical-align: top;\n",
       "    }\n",
       "\n",
       "    .dataframe thead th {\n",
       "        text-align: right;\n",
       "    }\n",
       "</style>\n",
       "<table border=\"1\" class=\"dataframe\">\n",
       "  <thead>\n",
       "    <tr style=\"text-align: right;\">\n",
       "      <th></th>\n",
       "      <th>dteday</th>\n",
       "      <th>hour</th>\n",
       "      <th>holiday</th>\n",
       "      <th>year</th>\n",
       "      <th>workingday</th>\n",
       "      <th>temp</th>\n",
       "      <th>atemp</th>\n",
       "      <th>hum</th>\n",
       "      <th>windspeed</th>\n",
       "      <th>casual</th>\n",
       "      <th>...</th>\n",
       "      <th>Dec</th>\n",
       "      <th>Mon</th>\n",
       "      <th>Tue</th>\n",
       "      <th>Wed</th>\n",
       "      <th>Thu</th>\n",
       "      <th>Fri</th>\n",
       "      <th>Sat</th>\n",
       "      <th>Cloudy</th>\n",
       "      <th>Snow</th>\n",
       "      <th>Storm</th>\n",
       "    </tr>\n",
       "  </thead>\n",
       "  <tbody>\n",
       "    <tr>\n",
       "      <th>6</th>\n",
       "      <td>2011-01-01</td>\n",
       "      <td>6</td>\n",
       "      <td>0</td>\n",
       "      <td>0</td>\n",
       "      <td>0</td>\n",
       "      <td>0.22</td>\n",
       "      <td>0.2727</td>\n",
       "      <td>0.80</td>\n",
       "      <td>0.0000</td>\n",
       "      <td>2</td>\n",
       "      <td>...</td>\n",
       "      <td>0</td>\n",
       "      <td>0</td>\n",
       "      <td>0</td>\n",
       "      <td>0</td>\n",
       "      <td>0</td>\n",
       "      <td>0</td>\n",
       "      <td>1</td>\n",
       "      <td>0</td>\n",
       "      <td>0</td>\n",
       "      <td>0</td>\n",
       "    </tr>\n",
       "    <tr>\n",
       "      <th>9</th>\n",
       "      <td>2011-01-01</td>\n",
       "      <td>9</td>\n",
       "      <td>0</td>\n",
       "      <td>0</td>\n",
       "      <td>0</td>\n",
       "      <td>0.32</td>\n",
       "      <td>0.3485</td>\n",
       "      <td>0.76</td>\n",
       "      <td>0.0000</td>\n",
       "      <td>8</td>\n",
       "      <td>...</td>\n",
       "      <td>0</td>\n",
       "      <td>0</td>\n",
       "      <td>0</td>\n",
       "      <td>0</td>\n",
       "      <td>0</td>\n",
       "      <td>0</td>\n",
       "      <td>1</td>\n",
       "      <td>0</td>\n",
       "      <td>0</td>\n",
       "      <td>0</td>\n",
       "    </tr>\n",
       "    <tr>\n",
       "      <th>20</th>\n",
       "      <td>2011-01-01</td>\n",
       "      <td>20</td>\n",
       "      <td>0</td>\n",
       "      <td>0</td>\n",
       "      <td>0</td>\n",
       "      <td>0.40</td>\n",
       "      <td>0.4091</td>\n",
       "      <td>0.87</td>\n",
       "      <td>0.2537</td>\n",
       "      <td>11</td>\n",
       "      <td>...</td>\n",
       "      <td>0</td>\n",
       "      <td>0</td>\n",
       "      <td>0</td>\n",
       "      <td>0</td>\n",
       "      <td>0</td>\n",
       "      <td>0</td>\n",
       "      <td>1</td>\n",
       "      <td>1</td>\n",
       "      <td>0</td>\n",
       "      <td>0</td>\n",
       "    </tr>\n",
       "    <tr>\n",
       "      <th>33</th>\n",
       "      <td>2011-01-02</td>\n",
       "      <td>10</td>\n",
       "      <td>0</td>\n",
       "      <td>0</td>\n",
       "      <td>0</td>\n",
       "      <td>0.36</td>\n",
       "      <td>0.3485</td>\n",
       "      <td>0.81</td>\n",
       "      <td>0.2239</td>\n",
       "      <td>7</td>\n",
       "      <td>...</td>\n",
       "      <td>0</td>\n",
       "      <td>0</td>\n",
       "      <td>0</td>\n",
       "      <td>0</td>\n",
       "      <td>0</td>\n",
       "      <td>0</td>\n",
       "      <td>0</td>\n",
       "      <td>1</td>\n",
       "      <td>0</td>\n",
       "      <td>0</td>\n",
       "    </tr>\n",
       "    <tr>\n",
       "      <th>35</th>\n",
       "      <td>2011-01-02</td>\n",
       "      <td>12</td>\n",
       "      <td>0</td>\n",
       "      <td>0</td>\n",
       "      <td>0</td>\n",
       "      <td>0.36</td>\n",
       "      <td>0.3333</td>\n",
       "      <td>0.66</td>\n",
       "      <td>0.2985</td>\n",
       "      <td>20</td>\n",
       "      <td>...</td>\n",
       "      <td>0</td>\n",
       "      <td>0</td>\n",
       "      <td>0</td>\n",
       "      <td>0</td>\n",
       "      <td>0</td>\n",
       "      <td>0</td>\n",
       "      <td>0</td>\n",
       "      <td>1</td>\n",
       "      <td>0</td>\n",
       "      <td>0</td>\n",
       "    </tr>\n",
       "  </tbody>\n",
       "</table>\n",
       "<p>5 rows × 35 columns</p>\n",
       "</div>"
      ],
      "text/plain": [
       "        dteday  hour  holiday  year  workingday  temp   atemp   hum  \\\n",
       "6   2011-01-01     6        0     0           0  0.22  0.2727  0.80   \n",
       "9   2011-01-01     9        0     0           0  0.32  0.3485  0.76   \n",
       "20  2011-01-01    20        0     0           0  0.40  0.4091  0.87   \n",
       "33  2011-01-02    10        0     0           0  0.36  0.3485  0.81   \n",
       "35  2011-01-02    12        0     0           0  0.36  0.3333  0.66   \n",
       "\n",
       "    windspeed  casual  ...    Dec  Mon  Tue  Wed  Thu  Fri  Sat  Cloudy  Snow  \\\n",
       "6      0.0000       2  ...      0    0    0    0    0    0    1       0     0   \n",
       "9      0.0000       8  ...      0    0    0    0    0    0    1       0     0   \n",
       "20     0.2537      11  ...      0    0    0    0    0    0    1       1     0   \n",
       "33     0.2239       7  ...      0    0    0    0    0    0    0       1     0   \n",
       "35     0.2985      20  ...      0    0    0    0    0    0    0       1     0   \n",
       "\n",
       "    Storm  \n",
       "6       0  \n",
       "9       0  \n",
       "20      0  \n",
       "33      0  \n",
       "35      0  \n",
       "\n",
       "[5 rows x 35 columns]"
      ]
     },
     "execution_count": 5,
     "metadata": {},
     "output_type": "execute_result"
    }
   ],
   "source": [
    "BSS_test.head()"
   ]
  },
  {
   "cell_type": "code",
   "execution_count": 6,
   "metadata": {},
   "outputs": [],
   "source": [
    "BSS_train = BSS_train.drop(['dteday', 'casual', 'registered'], axis = 1)\n",
    "BSS_test = BSS_test.drop(['dteday', 'casual', 'registered'], axis = 1)"
   ]
  },
  {
   "cell_type": "markdown",
   "metadata": {},
   "source": [
    "#### 1.2 Standardizing our data"
   ]
  },
  {
   "cell_type": "code",
   "execution_count": 7,
   "metadata": {},
   "outputs": [],
   "source": [
    "# store copy of original dataframe\n",
    "BSS_train_copy = BSS_train.copy()\n",
    "BSS_test_copy = BSS_test.copy()"
   ]
  },
  {
   "cell_type": "code",
   "execution_count": 8,
   "metadata": {},
   "outputs": [
    {
     "data": {
      "text/html": [
       "<div>\n",
       "<style scoped>\n",
       "    .dataframe tbody tr th:only-of-type {\n",
       "        vertical-align: middle;\n",
       "    }\n",
       "\n",
       "    .dataframe tbody tr th {\n",
       "        vertical-align: top;\n",
       "    }\n",
       "\n",
       "    .dataframe thead th {\n",
       "        text-align: right;\n",
       "    }\n",
       "</style>\n",
       "<table border=\"1\" class=\"dataframe\">\n",
       "  <thead>\n",
       "    <tr style=\"text-align: right;\">\n",
       "      <th></th>\n",
       "      <th>hour</th>\n",
       "      <th>holiday</th>\n",
       "      <th>year</th>\n",
       "      <th>workingday</th>\n",
       "      <th>temp</th>\n",
       "      <th>atemp</th>\n",
       "      <th>hum</th>\n",
       "      <th>windspeed</th>\n",
       "      <th>counts</th>\n",
       "      <th>spring</th>\n",
       "      <th>...</th>\n",
       "      <th>Dec</th>\n",
       "      <th>Mon</th>\n",
       "      <th>Tue</th>\n",
       "      <th>Wed</th>\n",
       "      <th>Thu</th>\n",
       "      <th>Fri</th>\n",
       "      <th>Sat</th>\n",
       "      <th>Cloudy</th>\n",
       "      <th>Snow</th>\n",
       "      <th>Storm</th>\n",
       "    </tr>\n",
       "  </thead>\n",
       "  <tbody>\n",
       "    <tr>\n",
       "      <th>0</th>\n",
       "      <td>0</td>\n",
       "      <td>0</td>\n",
       "      <td>0</td>\n",
       "      <td>0</td>\n",
       "      <td>-1.332339</td>\n",
       "      <td>-1.090615</td>\n",
       "      <td>0.937108</td>\n",
       "      <td>-1.557515</td>\n",
       "      <td>16</td>\n",
       "      <td>0</td>\n",
       "      <td>...</td>\n",
       "      <td>0</td>\n",
       "      <td>0</td>\n",
       "      <td>0</td>\n",
       "      <td>0</td>\n",
       "      <td>0</td>\n",
       "      <td>0</td>\n",
       "      <td>1</td>\n",
       "      <td>0</td>\n",
       "      <td>0</td>\n",
       "      <td>0</td>\n",
       "    </tr>\n",
       "    <tr>\n",
       "      <th>1</th>\n",
       "      <td>1</td>\n",
       "      <td>0</td>\n",
       "      <td>0</td>\n",
       "      <td>0</td>\n",
       "      <td>-1.436131</td>\n",
       "      <td>-1.179015</td>\n",
       "      <td>0.885320</td>\n",
       "      <td>-1.557515</td>\n",
       "      <td>40</td>\n",
       "      <td>0</td>\n",
       "      <td>...</td>\n",
       "      <td>0</td>\n",
       "      <td>0</td>\n",
       "      <td>0</td>\n",
       "      <td>0</td>\n",
       "      <td>0</td>\n",
       "      <td>0</td>\n",
       "      <td>1</td>\n",
       "      <td>0</td>\n",
       "      <td>0</td>\n",
       "      <td>0</td>\n",
       "    </tr>\n",
       "    <tr>\n",
       "      <th>2</th>\n",
       "      <td>2</td>\n",
       "      <td>0</td>\n",
       "      <td>0</td>\n",
       "      <td>0</td>\n",
       "      <td>-1.436131</td>\n",
       "      <td>-1.179015</td>\n",
       "      <td>0.885320</td>\n",
       "      <td>-1.557515</td>\n",
       "      <td>32</td>\n",
       "      <td>0</td>\n",
       "      <td>...</td>\n",
       "      <td>0</td>\n",
       "      <td>0</td>\n",
       "      <td>0</td>\n",
       "      <td>0</td>\n",
       "      <td>0</td>\n",
       "      <td>0</td>\n",
       "      <td>1</td>\n",
       "      <td>0</td>\n",
       "      <td>0</td>\n",
       "      <td>0</td>\n",
       "    </tr>\n",
       "    <tr>\n",
       "      <th>3</th>\n",
       "      <td>3</td>\n",
       "      <td>0</td>\n",
       "      <td>0</td>\n",
       "      <td>0</td>\n",
       "      <td>-1.332339</td>\n",
       "      <td>-1.090615</td>\n",
       "      <td>0.626377</td>\n",
       "      <td>-1.557515</td>\n",
       "      <td>13</td>\n",
       "      <td>0</td>\n",
       "      <td>...</td>\n",
       "      <td>0</td>\n",
       "      <td>0</td>\n",
       "      <td>0</td>\n",
       "      <td>0</td>\n",
       "      <td>0</td>\n",
       "      <td>0</td>\n",
       "      <td>1</td>\n",
       "      <td>0</td>\n",
       "      <td>0</td>\n",
       "      <td>0</td>\n",
       "    </tr>\n",
       "    <tr>\n",
       "      <th>4</th>\n",
       "      <td>4</td>\n",
       "      <td>0</td>\n",
       "      <td>0</td>\n",
       "      <td>0</td>\n",
       "      <td>-1.332339</td>\n",
       "      <td>-1.090615</td>\n",
       "      <td>0.626377</td>\n",
       "      <td>-1.557515</td>\n",
       "      <td>1</td>\n",
       "      <td>0</td>\n",
       "      <td>...</td>\n",
       "      <td>0</td>\n",
       "      <td>0</td>\n",
       "      <td>0</td>\n",
       "      <td>0</td>\n",
       "      <td>0</td>\n",
       "      <td>0</td>\n",
       "      <td>1</td>\n",
       "      <td>0</td>\n",
       "      <td>0</td>\n",
       "      <td>0</td>\n",
       "    </tr>\n",
       "  </tbody>\n",
       "</table>\n",
       "<p>5 rows × 32 columns</p>\n",
       "</div>"
      ],
      "text/plain": [
       "   hour  holiday  year  workingday      temp     atemp       hum  windspeed  \\\n",
       "0     0        0     0           0 -1.332339 -1.090615  0.937108  -1.557515   \n",
       "1     1        0     0           0 -1.436131 -1.179015  0.885320  -1.557515   \n",
       "2     2        0     0           0 -1.436131 -1.179015  0.885320  -1.557515   \n",
       "3     3        0     0           0 -1.332339 -1.090615  0.626377  -1.557515   \n",
       "4     4        0     0           0 -1.332339 -1.090615  0.626377  -1.557515   \n",
       "\n",
       "   counts  spring  ...    Dec  Mon  Tue  Wed  Thu  Fri  Sat  Cloudy  Snow  \\\n",
       "0      16       0  ...      0    0    0    0    0    0    1       0     0   \n",
       "1      40       0  ...      0    0    0    0    0    0    1       0     0   \n",
       "2      32       0  ...      0    0    0    0    0    0    1       0     0   \n",
       "3      13       0  ...      0    0    0    0    0    0    1       0     0   \n",
       "4       1       0  ...      0    0    0    0    0    0    1       0     0   \n",
       "\n",
       "   Storm  \n",
       "0      0  \n",
       "1      0  \n",
       "2      0  \n",
       "3      0  \n",
       "4      0  \n",
       "\n",
       "[5 rows x 32 columns]"
      ]
     },
     "execution_count": 8,
     "metadata": {},
     "output_type": "execute_result"
    }
   ],
   "source": [
    "scaler = StandardScaler().fit(BSS_train[['temp', 'atemp', 'hum', 'windspeed']])\n",
    "BSS_train[['temp', 'atemp', 'hum', 'windspeed']] = scaler.transform(BSS_train[['temp', 'atemp', \n",
    "                                                                                   'hum', 'windspeed']])\n",
    "BSS_train.head()"
   ]
  },
  {
   "cell_type": "code",
   "execution_count": 9,
   "metadata": {},
   "outputs": [
    {
     "data": {
      "text/html": [
       "<div>\n",
       "<style scoped>\n",
       "    .dataframe tbody tr th:only-of-type {\n",
       "        vertical-align: middle;\n",
       "    }\n",
       "\n",
       "    .dataframe tbody tr th {\n",
       "        vertical-align: top;\n",
       "    }\n",
       "\n",
       "    .dataframe thead th {\n",
       "        text-align: right;\n",
       "    }\n",
       "</style>\n",
       "<table border=\"1\" class=\"dataframe\">\n",
       "  <thead>\n",
       "    <tr style=\"text-align: right;\">\n",
       "      <th></th>\n",
       "      <th>hour</th>\n",
       "      <th>holiday</th>\n",
       "      <th>year</th>\n",
       "      <th>workingday</th>\n",
       "      <th>temp</th>\n",
       "      <th>atemp</th>\n",
       "      <th>hum</th>\n",
       "      <th>windspeed</th>\n",
       "      <th>counts</th>\n",
       "      <th>spring</th>\n",
       "      <th>...</th>\n",
       "      <th>Dec</th>\n",
       "      <th>Mon</th>\n",
       "      <th>Tue</th>\n",
       "      <th>Wed</th>\n",
       "      <th>Thu</th>\n",
       "      <th>Fri</th>\n",
       "      <th>Sat</th>\n",
       "      <th>Cloudy</th>\n",
       "      <th>Snow</th>\n",
       "      <th>Storm</th>\n",
       "    </tr>\n",
       "  </thead>\n",
       "  <tbody>\n",
       "    <tr>\n",
       "      <th>6</th>\n",
       "      <td>6</td>\n",
       "      <td>0</td>\n",
       "      <td>0</td>\n",
       "      <td>0</td>\n",
       "      <td>-1.436131</td>\n",
       "      <td>-1.179015</td>\n",
       "      <td>0.885320</td>\n",
       "      <td>-1.557515</td>\n",
       "      <td>2</td>\n",
       "      <td>0</td>\n",
       "      <td>...</td>\n",
       "      <td>0</td>\n",
       "      <td>0</td>\n",
       "      <td>0</td>\n",
       "      <td>0</td>\n",
       "      <td>0</td>\n",
       "      <td>0</td>\n",
       "      <td>1</td>\n",
       "      <td>0</td>\n",
       "      <td>0</td>\n",
       "      <td>0</td>\n",
       "    </tr>\n",
       "    <tr>\n",
       "      <th>9</th>\n",
       "      <td>9</td>\n",
       "      <td>0</td>\n",
       "      <td>0</td>\n",
       "      <td>0</td>\n",
       "      <td>-0.917170</td>\n",
       "      <td>-0.738176</td>\n",
       "      <td>0.678165</td>\n",
       "      <td>-1.557515</td>\n",
       "      <td>14</td>\n",
       "      <td>0</td>\n",
       "      <td>...</td>\n",
       "      <td>0</td>\n",
       "      <td>0</td>\n",
       "      <td>0</td>\n",
       "      <td>0</td>\n",
       "      <td>0</td>\n",
       "      <td>0</td>\n",
       "      <td>1</td>\n",
       "      <td>0</td>\n",
       "      <td>0</td>\n",
       "      <td>0</td>\n",
       "    </tr>\n",
       "    <tr>\n",
       "      <th>20</th>\n",
       "      <td>20</td>\n",
       "      <td>0</td>\n",
       "      <td>0</td>\n",
       "      <td>0</td>\n",
       "      <td>-0.502000</td>\n",
       "      <td>-0.385738</td>\n",
       "      <td>1.247840</td>\n",
       "      <td>0.521907</td>\n",
       "      <td>36</td>\n",
       "      <td>0</td>\n",
       "      <td>...</td>\n",
       "      <td>0</td>\n",
       "      <td>0</td>\n",
       "      <td>0</td>\n",
       "      <td>0</td>\n",
       "      <td>0</td>\n",
       "      <td>0</td>\n",
       "      <td>1</td>\n",
       "      <td>1</td>\n",
       "      <td>0</td>\n",
       "      <td>0</td>\n",
       "    </tr>\n",
       "    <tr>\n",
       "      <th>33</th>\n",
       "      <td>10</td>\n",
       "      <td>0</td>\n",
       "      <td>0</td>\n",
       "      <td>0</td>\n",
       "      <td>-0.709585</td>\n",
       "      <td>-0.738176</td>\n",
       "      <td>0.937108</td>\n",
       "      <td>0.277655</td>\n",
       "      <td>53</td>\n",
       "      <td>0</td>\n",
       "      <td>...</td>\n",
       "      <td>0</td>\n",
       "      <td>0</td>\n",
       "      <td>0</td>\n",
       "      <td>0</td>\n",
       "      <td>0</td>\n",
       "      <td>0</td>\n",
       "      <td>0</td>\n",
       "      <td>1</td>\n",
       "      <td>0</td>\n",
       "      <td>0</td>\n",
       "    </tr>\n",
       "    <tr>\n",
       "      <th>35</th>\n",
       "      <td>12</td>\n",
       "      <td>0</td>\n",
       "      <td>0</td>\n",
       "      <td>0</td>\n",
       "      <td>-0.709585</td>\n",
       "      <td>-0.826577</td>\n",
       "      <td>0.160279</td>\n",
       "      <td>0.889105</td>\n",
       "      <td>93</td>\n",
       "      <td>0</td>\n",
       "      <td>...</td>\n",
       "      <td>0</td>\n",
       "      <td>0</td>\n",
       "      <td>0</td>\n",
       "      <td>0</td>\n",
       "      <td>0</td>\n",
       "      <td>0</td>\n",
       "      <td>0</td>\n",
       "      <td>1</td>\n",
       "      <td>0</td>\n",
       "      <td>0</td>\n",
       "    </tr>\n",
       "  </tbody>\n",
       "</table>\n",
       "<p>5 rows × 32 columns</p>\n",
       "</div>"
      ],
      "text/plain": [
       "    hour  holiday  year  workingday      temp     atemp       hum  windspeed  \\\n",
       "6      6        0     0           0 -1.436131 -1.179015  0.885320  -1.557515   \n",
       "9      9        0     0           0 -0.917170 -0.738176  0.678165  -1.557515   \n",
       "20    20        0     0           0 -0.502000 -0.385738  1.247840   0.521907   \n",
       "33    10        0     0           0 -0.709585 -0.738176  0.937108   0.277655   \n",
       "35    12        0     0           0 -0.709585 -0.826577  0.160279   0.889105   \n",
       "\n",
       "    counts  spring  ...    Dec  Mon  Tue  Wed  Thu  Fri  Sat  Cloudy  Snow  \\\n",
       "6        2       0  ...      0    0    0    0    0    0    1       0     0   \n",
       "9       14       0  ...      0    0    0    0    0    0    1       0     0   \n",
       "20      36       0  ...      0    0    0    0    0    0    1       1     0   \n",
       "33      53       0  ...      0    0    0    0    0    0    0       1     0   \n",
       "35      93       0  ...      0    0    0    0    0    0    0       1     0   \n",
       "\n",
       "    Storm  \n",
       "6       0  \n",
       "9       0  \n",
       "20      0  \n",
       "33      0  \n",
       "35      0  \n",
       "\n",
       "[5 rows x 32 columns]"
      ]
     },
     "execution_count": 9,
     "metadata": {},
     "output_type": "execute_result"
    }
   ],
   "source": [
    "BSS_test[['temp', 'atemp', 'hum', 'windspeed']] = scaler.transform(BSS_test[['temp', 'atemp', \n",
    "                                                                                   'hum', 'windspeed']])\n",
    "BSS_test.head()"
   ]
  },
  {
   "cell_type": "code",
   "execution_count": 10,
   "metadata": {},
   "outputs": [],
   "source": [
    "X_train = BSS_train.drop('counts', axis = 1)\n",
    "X_test = BSS_test.drop('counts', axis = 1)\n",
    "y_train = BSS_train[['counts']].copy().values.reshape(-1,1)\n",
    "y_test = BSS_test[['counts']].copy().values.reshape(-1,1)"
   ]
  },
  {
   "cell_type": "markdown",
   "metadata": {},
   "source": [
    "#### 1.3 Use the `LinearRegression` library from `sklearn` to fit a multiple linear regression."
   ]
  },
  {
   "cell_type": "code",
   "execution_count": 11,
   "metadata": {},
   "outputs": [],
   "source": [
    "BikeOLSModel = LinearRegression().fit(X_train, y_train)"
   ]
  },
  {
   "cell_type": "markdown",
   "metadata": {},
   "source": [
    "#### 1.4 What are the training and test set $R^2$ scores? Store the $R^2$ scores of the `BikeOLSModel` on the training and test sets in a dictionary `BikeOLS_r2scores`. "
   ]
  },
  {
   "cell_type": "code",
   "execution_count": 12,
   "metadata": {},
   "outputs": [
    {
     "name": "stdout",
     "output_type": "stream",
     "text": [
      "Training R^2 score: 0.406539\n",
      "Test R^2 score: 0.406386\n"
     ]
    }
   ],
   "source": [
    "prediction_train = BikeOLSModel.predict(X_train)\n",
    "prediction_test = BikeOLSModel.predict(X_test)\n",
    "r2_train_OLS = r2_score(y_train, prediction_train)\n",
    "r2_test_OLS = r2_score(y_test, prediction_test)\n",
    "print('Training R^2 score: {0:6f}'.format(r2_train_OLS))\n",
    "print('Test R^2 score: {0:6f}'.format(r2_test_OLS))"
   ]
  },
  {
   "cell_type": "code",
   "execution_count": 13,
   "metadata": {},
   "outputs": [],
   "source": [
    "BikeOLS_r2scores = {'r2_training': r2_train_OLS, 'r2_test': r2_test_OLS}  "
   ]
  },
  {
   "cell_type": "markdown",
   "metadata": {},
   "source": [
    "<HR>\n",
    "Your answer here\n",
    "<HR>"
   ]
  },
  {
   "cell_type": "markdown",
   "metadata": {},
   "source": [
    "#### 1.5 We're going to use bootstrapped confidence intervals to determine which of the estimated coefficients ..."
   ]
  },
  {
   "cell_type": "code",
   "execution_count": 14,
   "metadata": {},
   "outputs": [],
   "source": [
    "# dataset_x should be a pandas dataframe\n",
    "\n",
    "## accepts dataset inputs as numpy arrays\n",
    "def make_bootstrap_sample(dataset_X, dataset_y, size = None) -> tuple:\n",
    "    '''Take training dataset features and target, return bootstrapped datasets\n",
    "    Args:\n",
    "        dataset_X: training dataset features; dataset_y = training dataset target\n",
    "    Returns:\n",
    "        tuple of boostrapped training features as a pandas dataframe \n",
    "        and bootstrapped training target as a numpy array\n",
    "    '''\n",
    "    # by default return a bootstrap sample of the same size as the original dataset\n",
    "    if not size: size = len(dataset_X)\n",
    "    \n",
    "    # if the X and y datasets aren't the same size, raise an exception\n",
    "    if len(dataset_X) != len(dataset_y):\n",
    "        raise Exception(\"Data size must match between dataset_X and dataset_y\")\n",
    "\n",
    "    inds_to_sample = (np.random.choice(dataset_X.shape[0], size = size, replace = True))\n",
    "    bootstrap_dataset_X = dataset_X.iloc[inds_to_sample]\n",
    "    bootstrap_dataset_y = dataset_y[inds_to_sample]\n",
    "    \n",
    "    return (bootstrap_dataset_X, bootstrap_dataset_y) \n",
    "\n",
    "\n",
    "def calculate_coefficients(dataset_X, dataset_y, model) -> list:\n",
    "    '''Take bootstrapped training dataset features and target and return lin reg coefficients\n",
    "    Args:\n",
    "         dataset_X: pandas dataframe, dataset_y: numpy array, model to fit\n",
    "    Return:\n",
    "        dictionary containing bootstrap feature coefficients\n",
    "    '''\n",
    "    keys = tuple(X_train.columns.values)\n",
    "    bootstrap_model = model.fit(dataset_X, dataset_y)\n",
    "    coefficients_dictionary = dict(zip(keys, bootstrap_model.coef_[0]))\n",
    "    return coefficients_dictionary\n",
    "\n",
    "def get_significant_predictors(regression_coefficients, significance_level):\n",
    "    '''Take list of regression coefficient dictionaries and return significant features\n",
    "    Args:\n",
    "        regression_coefficients: list of dictionaries\n",
    "        significance_level: percent at which your testing for statistical significant (eg 5% input as 5)\n",
    "    Returns:\n",
    "        list of significant features\n",
    "    '''\n",
    "    keys = regression_coefficients[0].keys()\n",
    "    significant_coefficients = []\n",
    "    values_intervals = [] # return confidence intervals (as a check)\n",
    "    for i, key in enumerate(keys):     \n",
    "        values = [line[key] for line in regression_coefficients]\n",
    "        # 5% significance level is equal to a lower limit percentile of 2.5% and an upper limit of 97.5%\n",
    "        lower_limit, upper_limit = np.percentile(values, \n",
    "                                                 [significance_level/2, 100-significance_level/2])\n",
    "        if not lower_limit <= 0 <= upper_limit:\n",
    "            significant_coefficients.append(key)\n",
    "            values_intervals.append([lower_limit, upper_limit])\n",
    "        else:\n",
    "            pass\n",
    "    # return the significant coefficients as a list of strings\n",
    "    return significant_coefficients, values_intervals"
   ]
  },
  {
   "cell_type": "code",
   "execution_count": 15,
   "metadata": {},
   "outputs": [],
   "source": [
    "N = 1000\n",
    "regression_coefficients = []\n",
    "for i in range(N):\n",
    "    bootstrap_dataset_X, bootstrap_dataset_y = make_bootstrap_sample(X_train, y_train)\n",
    "    coef_dict = calculate_coefficients(bootstrap_dataset_X, bootstrap_dataset_y, LinearRegression())\n",
    "    regression_coefficients.append(coef_dict)"
   ]
  },
  {
   "cell_type": "code",
   "execution_count": 16,
   "metadata": {},
   "outputs": [
    {
     "data": {
      "text/plain": [
       "['hour',\n",
       " 'holiday',\n",
       " 'year',\n",
       " 'workingday',\n",
       " 'temp',\n",
       " 'hum',\n",
       " 'windspeed',\n",
       " 'spring',\n",
       " 'summer',\n",
       " 'fall',\n",
       " 'Mar',\n",
       " 'Apr',\n",
       " 'May',\n",
       " 'Jun',\n",
       " 'Jul',\n",
       " 'Aug',\n",
       " 'Nov',\n",
       " 'Sat',\n",
       " 'Cloudy',\n",
       " 'Snow']"
      ]
     },
     "execution_count": 16,
     "metadata": {},
     "output_type": "execute_result"
    }
   ],
   "source": [
    "BikeOLS_significant_bootstrap, conf_intervals = get_significant_predictors(regression_coefficients, 5)\n",
    "BikeOLS_significant_bootstrap"
   ]
  },
  {
   "cell_type": "code",
   "execution_count": 17,
   "metadata": {},
   "outputs": [
    {
     "data": {
      "text/plain": [
       "[[6.925782240574084, 7.567950731153229],\n",
       " [-28.819560960410453, -7.489990056490692],\n",
       " [71.7329548068986, 81.28248910525508],\n",
       " [6.296216303967614, 16.046875391702482],\n",
       " [44.66547857998237, 83.26181356900703],\n",
       " [-42.715073715676155, -36.764843996801325],\n",
       " [0.2017320726718477, 5.383094233403411],\n",
       " [29.780061326239736, 57.216175239046834],\n",
       " [11.699995651322386, 47.08379267034085],\n",
       " [56.09184968777388, 80.51755494997653],\n",
       " [-21.625270438699307, -1.2170034348772307],\n",
       " [-60.23283611521419, -23.61711383486511],\n",
       " [-54.20035896908734, -13.084339257021972],\n",
       " [-86.82993533526708, -44.75668776741995],\n",
       " [-117.68457896567271, -68.55141487609228],\n",
       " [-84.00048348493569, -36.67782806057482],\n",
       " [-41.09204557560979, -9.333612341623509],\n",
       " [7.276111106273726, 22.391800722060037],\n",
       " [0.9286142236440876, 12.717213120851502],\n",
       " [-37.09466132136804, -19.514780188663078]]"
      ]
     },
     "execution_count": 17,
     "metadata": {},
     "output_type": "execute_result"
    }
   ],
   "source": [
    "conf_intervals"
   ]
  },
  {
   "cell_type": "markdown",
   "metadata": {},
   "source": [
    "None of the corresponding confidence intervals contain 0, so all of the returned predictors are significant."
   ]
  },
  {
   "cell_type": "markdown",
   "metadata": {},
   "source": [
    "## Penalization Methods\n",
    "\n",
    "In HW 3 Question 5 we explored using subset selection to find a significant subset of features.  We then fit a regression model just on that subset of features instead of on the full dataset (including all features).   As an alternative to selecting a subset of predictors and fitting a regression model on the subset, one can fit a linear regression model on all predictors, but shrink or regularize the coefficient estimates to make sure that the model does not \"overfit\" the training set. \n",
    "\n",
    "<div class='exercise'> <b> Question 2 </b> </div> \n",
    "  We're going to use Ridge and Lasso regression regularization techniques to fit linear models to the training set.  We'll use cross-validation and shrinkage parameters $\\lambda$ from the set $\\{.001,.005,1,5,10,50,100,500,1000\\}$ to pick the best model for each regularization technique.\n",
    "\n",
    "**2.1** Use 5-fold cross-validation to pick the best shrinkage parameter from the set $\\{.001,.005,1,5,10,50,100,500,1000\\}$ for your Ridge Regression model on the training data.  Fit a Ridge Regression model on the training set with the selected shrinkage parameter and store your fitted model in the variable `BikeRRModel`.  Store the selected shrinkage parameter in the variable `BikeRR_shrinkage_parameter`.\n",
    "\n",
    "**2.2** Use 5-fold cross-validation to pick the best shrinkage parameter from the set $\\{.001,.005,1,5,10,50,100,500,1000\\}$ for your Lasso Regression model on the training data.  Fit a Lasso Regression model on the training set with the selected shrinkage parameter and store your fitted model in the variable `BikeLRModel`.  Store the selected shrinkage parameter in the variable `BikeLR_shrinkage_parameter`.\n",
    "\n",
    "**2.3** Create three dictionaries `BikeOLSparams`, `BikeLRparams`, and `BikeRRparams`.  Store in each the corresponding regression coefficients for each of the regression models indexed by the string feature name.\n",
    "\n",
    "**2.4** For the Lasso and Ridge Regression models list the features that are assigned a coefficient value close to 0 (i.e. the absolute value of the coefficient is less than 0.1).  How closely do they match the redundant predictors found (if any) in HW 3, Question 5?\n",
    "\n",
    "**2.5** To get a visual sense of how the features different regression models (Multiple Linear Regression, Ridge Regression, Lasso Regression) estimate coefficients, order the features by magnitude of the estimated coefficients in the Multiple Linear Regression Model (no shrinkage).  Plot a bar graph of the magnitude (absolute value) of the estimated coefficients from Multiple Linear Regression in order from greatest to least.  Using a different color (and alpha values) overlay bar graphs of the magnitude of the estimated coefficients (in the same order as the Multiple Linear Regression coefficients) from Ridge and Lasso Regression.\n",
    "\n",
    "**2.6** Let's examine a pair of features we believe to be related.  Is there a difference in the way Ridge and Lasso regression assign coefficients to the predictors `temp` and `atemp`? If so, explain the reason for the difference.\n",
    "\n",
    "**2.7** Discuss the Results:\n",
    "\n",
    "1. How do the estimated coefficients compare to or differ from the coefficients estimated by a plain linear regression (without shrinkage penalty) in Question 1? \n",
    "2. Is there a difference between coefficients estimated by the two shrinkage methods? If so, give an explantion for the difference.\n",
    "3. Is the significance related to the shrinkage in some way?\n",
    "\n",
    "*Hint:* You may use `sklearn`'s `RidgeCV` and `LassoCV` classes to implement Ridge and Lasso regression. These classes automatically perform cross-validation to tune the parameter $\\lambda$ from a given range of values."
   ]
  },
  {
   "cell_type": "markdown",
   "metadata": {},
   "source": [
    "### Answers"
   ]
  },
  {
   "cell_type": "code",
   "execution_count": 18,
   "metadata": {},
   "outputs": [],
   "source": [
    "lambdas = [.001, .005, 1, 5, 10, 50, 100, 500, 1000]"
   ]
  },
  {
   "cell_type": "markdown",
   "metadata": {},
   "source": [
    "#### 2.1 Use 5-fold cross-validation to pick the best shrinkage parameter from the set $\\{.001,.005,1,5,10,50,100,500,1000\\}$ for your Ridge Regression model."
   ]
  },
  {
   "cell_type": "code",
   "execution_count": 19,
   "metadata": {},
   "outputs": [
    {
     "data": {
      "text/plain": [
       "500"
      ]
     },
     "execution_count": 19,
     "metadata": {},
     "output_type": "execute_result"
    }
   ],
   "source": [
    "BikeRRModel = RidgeCV(alphas = lambdas, cv = 5).fit(X_train, y_train)\n",
    "BikeRR_shrinkage_parameter = BikeRRModel.alpha_\n",
    "BikeRR_shrinkage_parameter"
   ]
  },
  {
   "cell_type": "markdown",
   "metadata": {},
   "source": [
    "#### 2.2 Use 5-fold cross-validation to pick the best shrinkage parameter from the set $\\{.001,.005,1,5,10,50,100,500,1000\\}$ for your Lasso Regression model."
   ]
  },
  {
   "cell_type": "code",
   "execution_count": 20,
   "metadata": {},
   "outputs": [
    {
     "data": {
      "text/plain": [
       "0.005"
      ]
     },
     "execution_count": 20,
     "metadata": {},
     "output_type": "execute_result"
    }
   ],
   "source": [
    "BikeLRModel = LassoCV(alphas = lambdas, cv = 5).fit(X_train, y_train)\n",
    "BikeLR_shrinkage_parameter = BikeLRModel.alpha_\n",
    "BikeLR_shrinkage_parameter"
   ]
  },
  {
   "cell_type": "markdown",
   "metadata": {},
   "source": [
    "#### 2.3 Create three dictionaries `BikeOLSparams`, `BikeLRparams`, and `BikeRRparams`.  Store in each the corresponding regression coefficients."
   ]
  },
  {
   "cell_type": "code",
   "execution_count": 21,
   "metadata": {},
   "outputs": [],
   "source": [
    "keys = tuple(X_train.columns.values)\n",
    "BikeOLSparams = dict(zip(keys, BikeOLSModel.coef_[0]))\n",
    "BikeLRparams = dict(zip(keys, BikeLRModel.coef_))\n",
    "BikeRRparams = dict(zip(keys, BikeRRModel.coef_[0]))"
   ]
  },
  {
   "cell_type": "markdown",
   "metadata": {},
   "source": [
    "#### 2.4 For the Lasso and Ridge Regression models list the features that are assigned a coefficient value close to 0 ..."
   ]
  },
  {
   "cell_type": "markdown",
   "metadata": {},
   "source": [
    "<HR>\n",
    "Your answer here\n",
    "<HR>"
   ]
  },
  {
   "cell_type": "code",
   "execution_count": 22,
   "metadata": {},
   "outputs": [],
   "source": [
    "def coef_zero(param_dict) -> list:\n",
    "    '''Take dictionary of parameters and their coefficients, return parameters with coef close to zero\n",
    "    Args: \n",
    "        params: dictionary of parameters and corresponding coefficients\n",
    "    Returns:\n",
    "        list of parameters whose coefficients are close to zero (ie absolute value < 0.1)\n",
    "    '''\n",
    "    coef_close_zero = []\n",
    "    values_coef = [] # check values\n",
    "    for key, value in param_dict.items():     \n",
    "        if np.absolute(value) < 0.1:\n",
    "            coef_close_zero.append(key)\n",
    "            values_coef.append(value)\n",
    "        else:\n",
    "            pass\n",
    "    return (coef_close_zero, values_coef)"
   ]
  },
  {
   "cell_type": "code",
   "execution_count": 23,
   "metadata": {},
   "outputs": [
    {
     "name": "stdout",
     "output_type": "stream",
     "text": [
      "[]\n"
     ]
    },
    {
     "data": {
      "text/plain": [
       "[]"
      ]
     },
     "execution_count": 23,
     "metadata": {},
     "output_type": "execute_result"
    }
   ],
   "source": [
    "RR_coef_zero, RR_coef_values = coef_zero(BikeRRparams)\n",
    "print(RR_coef_zero)\n",
    "RR_coef_values"
   ]
  },
  {
   "cell_type": "code",
   "execution_count": 24,
   "metadata": {},
   "outputs": [
    {
     "name": "stdout",
     "output_type": "stream",
     "text": [
      "['Mon']\n"
     ]
    },
    {
     "data": {
      "text/plain": [
       "[-0.0]"
      ]
     },
     "execution_count": 24,
     "metadata": {},
     "output_type": "execute_result"
    }
   ],
   "source": [
    "LR_coef_zero, LR_coef_values = coef_zero(BikeLRparams)\n",
    "print(LR_coef_zero)\n",
    "LR_coef_values"
   ]
  },
  {
   "cell_type": "markdown",
   "metadata": {},
   "source": [
    "In HW 3, the redundant predictors from backward stepwise were:\n",
    "{'Nov', 'holiday', 'summer', 'const', 'May', 'windspeed', 'Apr', 'Cloudy'}.\n",
    "The redundant predictor from forward stepwise were:\n",
    "{'workingday', 'Sat', 'Nov', 'summer', 'const', 'May', 'windspeed', 'Apr', 'Cloudy'}.\n",
    "\n",
    "Only the Lasso model has a coefficient close to zero: Monday, with a value of zero. As you can see, this is in neither of the redundant predictors lists mentioned above, so it doesn't match at all. \n",
    "\n",
    "The Ridge model doesn't have any coefficients close to zero. This makes sense because while increasing the value of the shrinkage parameter tends to decrease the magnitude of the coefficients, Ridge regression will not exclude any of the features (Intro to Statistical Learning, p. 219)."
   ]
  },
  {
   "cell_type": "markdown",
   "metadata": {},
   "source": [
    "#### 2.5 To get a visual sense of how the features different regression models (Multiple Linear Regression, Ridge Regression, Lasso Regression) estimate coefficients, order the features by magnitude of the estimated coefficients in the Multiple Linear Regression Model (no shrinkage)."
   ]
  },
  {
   "cell_type": "code",
   "execution_count": 25,
   "metadata": {
    "scrolled": true
   },
   "outputs": [
    {
     "data": {
      "text/plain": [
       "{'Wed': 2.2964399762003147,\n",
       " 'Mon': -2.6600987179723456,\n",
       " 'windspeed': 2.7471674822101146,\n",
       " 'Fri': 2.889159731208482,\n",
       " 'Thu': -3.1610760748339097,\n",
       " 'Tue': -6.142458208412257,\n",
       " 'Cloudy': 6.78680551769245,\n",
       " 'hour': 7.221381940680057,\n",
       " 'Feb': -7.643027745233975,\n",
       " 'Dec': -10.204250821258118,\n",
       " 'workingday': 11.31776457969951,\n",
       " 'Mar': -11.673687141368788,\n",
       " 'atemp': 12.832458166006159,\n",
       " 'Sat': 14.945929322020328,\n",
       " 'Sept': -16.051747458839316,\n",
       " 'Oct': -16.160150324874255,\n",
       " 'holiday': -18.09579787350835,\n",
       " 'Nov': -25.873180840893554,\n",
       " 'Snow': -28.285890478941145,\n",
       " 'summer': 29.54255100610918,\n",
       " 'May': -33.292706202341826,\n",
       " 'hum': -39.67974129097424,\n",
       " 'Apr': -41.52438416777143,\n",
       " 'Storm': 42.356939062905326,\n",
       " 'spring': 43.15406409999994,\n",
       " 'Aug': -59.20811290375633,\n",
       " 'temp': 64.21440819533899,\n",
       " 'Jun': -65.80393392225574,\n",
       " 'fall': 68.59533430091413,\n",
       " 'year': 76.35190255203702,\n",
       " 'Jul': -93.48048248461424}"
      ]
     },
     "execution_count": 25,
     "metadata": {},
     "output_type": "execute_result"
    }
   ],
   "source": [
    "ordered_OLS = dict(sorted(BikeOLSparams.items(), key = lambda x: np.absolute(x[1])))\n",
    "ordered_OLS"
   ]
  },
  {
   "cell_type": "code",
   "execution_count": 26,
   "metadata": {},
   "outputs": [
    {
     "data": {
      "text/plain": [
       "array([  3.12310593,  -2.53447364,   3.31636365,   3.28274403,\n",
       "        -0.75979421,  -3.72704688,   7.50831205,   7.40013942,\n",
       "        -5.7907642 ,   6.06335042,   8.03485659,   2.12685078,\n",
       "        30.38408863,  10.13390624,  21.90580851,  13.17516665,\n",
       "        -8.65032135,   3.24376026, -19.48505998,  -7.61219238,\n",
       "         6.89515972, -38.76313691,  -2.48805065,   0.16259052,\n",
       "        10.95697703,  -2.43120145,  38.45620844, -10.41361106,\n",
       "        39.24039587,  67.62631329, -25.86171501])"
      ]
     },
     "execution_count": 26,
     "metadata": {},
     "output_type": "execute_result"
    }
   ],
   "source": [
    "keys = tuple(ordered_OLS.keys())\n",
    "BikeRRparams_copy = BikeRRparams.copy()\n",
    "values_RR = np.zeros(len(keys))\n",
    "for i, key in enumerate(keys):\n",
    "    element = BikeRRparams_copy.pop(key)\n",
    "    values_RR[i] = element\n",
    "values_RR"
   ]
  },
  {
   "cell_type": "code",
   "execution_count": 27,
   "metadata": {
    "scrolled": true
   },
   "outputs": [
    {
     "data": {
      "text/plain": [
       "{'Wed': 3.123105934102686,\n",
       " 'Mon': -2.534473644905893,\n",
       " 'windspeed': 3.3163636546982898,\n",
       " 'Fri': 3.2827440336953297,\n",
       " 'Thu': -0.7597942064976965,\n",
       " 'Tue': -3.7270468831134282,\n",
       " 'Cloudy': 7.508312051072326,\n",
       " 'hour': 7.400139417460465,\n",
       " 'Feb': -5.790764197139307,\n",
       " 'Dec': 6.063350417139592,\n",
       " 'workingday': 8.034856585583546,\n",
       " 'Mar': 2.126850775245868,\n",
       " 'atemp': 30.384088629048826,\n",
       " 'Sat': 10.133906236764377,\n",
       " 'Sept': 21.905808512045187,\n",
       " 'Oct': 13.175166645217557,\n",
       " 'holiday': -8.650321352302935,\n",
       " 'Nov': 3.243760257959725,\n",
       " 'Snow': -19.485059982543266,\n",
       " 'summer': -7.61219238074931,\n",
       " 'May': 6.895159716404138,\n",
       " 'hum': -38.763136913528136,\n",
       " 'Apr': -2.488050649322641,\n",
       " 'Storm': 0.1625905216496711,\n",
       " 'spring': 10.956977028455151,\n",
       " 'Aug': -2.431201446412401,\n",
       " 'temp': 38.456208435774755,\n",
       " 'Jun': -10.413611058404594,\n",
       " 'fall': 39.24039586906726,\n",
       " 'year': 67.62631328963974,\n",
       " 'Jul': -25.86171500984421}"
      ]
     },
     "execution_count": 27,
     "metadata": {},
     "output_type": "execute_result"
    }
   ],
   "source": [
    "RR_params_OLSorder = dict(zip(keys, values_RR))\n",
    "RR_params_OLSorder"
   ]
  },
  {
   "cell_type": "code",
   "execution_count": 28,
   "metadata": {},
   "outputs": [
    {
     "data": {
      "text/plain": [
       "array([  4.97033168,  -0.        ,   2.75391451,   5.49329646,\n",
       "        -0.43325296,  -3.41833346,   6.80710135,   7.22736926,\n",
       "        -6.86216745,  -8.41945827,   8.63845517, -10.1662586 ,\n",
       "        12.86839725,  14.89481243, -12.81795914, -13.5826234 ,\n",
       "       -20.57823677, -23.52294836, -28.22885659,  27.52758934,\n",
       "       -30.40403107, -39.70292886, -38.87136106,   8.20126846,\n",
       "        41.58991227, -55.65367495,  63.83086193, -62.5993613 ,\n",
       "        67.15043175,  76.37027029, -89.85110768])"
      ]
     },
     "execution_count": 28,
     "metadata": {},
     "output_type": "execute_result"
    }
   ],
   "source": [
    "BikeLRparams_copy = BikeLRparams.copy()\n",
    "values_LR = np.zeros(len(keys))\n",
    "for i, key in enumerate(keys):\n",
    "    element = BikeLRparams_copy.pop(key)\n",
    "    values_LR[i] = element\n",
    "values_LR"
   ]
  },
  {
   "cell_type": "code",
   "execution_count": 29,
   "metadata": {
    "scrolled": true
   },
   "outputs": [
    {
     "data": {
      "text/plain": [
       "{'Wed': 4.970331682357598,\n",
       " 'Mon': -0.0,\n",
       " 'windspeed': 2.7539145053181873,\n",
       " 'Fri': 5.493296461010989,\n",
       " 'Thu': -0.43325296364087595,\n",
       " 'Tue': -3.4183334626244486,\n",
       " 'Cloudy': 6.807101353767041,\n",
       " 'hour': 7.227369260379996,\n",
       " 'Feb': -6.862167450435854,\n",
       " 'Dec': -8.419458272403812,\n",
       " 'workingday': 8.638455174700466,\n",
       " 'Mar': -10.16625860187794,\n",
       " 'atemp': 12.868397254893534,\n",
       " 'Sat': 14.894812427329438,\n",
       " 'Sept': -12.81795913567802,\n",
       " 'Oct': -13.582623398685259,\n",
       " 'holiday': -20.57823677247764,\n",
       " 'Nov': -23.52294835605708,\n",
       " 'Snow': -28.228856592303007,\n",
       " 'summer': 27.52758934287017,\n",
       " 'May': -30.40403107229061,\n",
       " 'hum': -39.70292885585576,\n",
       " 'Apr': -38.87136105631722,\n",
       " 'Storm': 8.201268464868521,\n",
       " 'spring': 41.58991226837139,\n",
       " 'Aug': -55.65367494868226,\n",
       " 'temp': 63.83086192823467,\n",
       " 'Jun': -62.599361300261414,\n",
       " 'fall': 67.15043174782417,\n",
       " 'year': 76.3702702903732,\n",
       " 'Jul': -89.85110767839228}"
      ]
     },
     "execution_count": 29,
     "metadata": {},
     "output_type": "execute_result"
    }
   ],
   "source": [
    "LR_params_OLSorder = dict(zip(keys, values_LR))\n",
    "LR_params_OLSorder"
   ]
  },
  {
   "cell_type": "code",
   "execution_count": 30,
   "metadata": {},
   "outputs": [
    {
     "data": {
      "image/png": "[encoded data removed]",
      "text/plain": [
       "<Figure size 1080x1080 with 1 Axes>"
      ]
     },
     "metadata": {},
     "output_type": "display_data"
    }
   ],
   "source": [
    "fig, ax = plt.subplots(1, 1, figsize = (15, 15))\n",
    "\n",
    "keys_OLS = tuple(ordered_OLS.keys())\n",
    "abs_values_OLS = [abs(x) for x in ordered_OLS.values()]\n",
    "abs_values_RR = [abs(x) for x in RR_params_OLSorder.values()]\n",
    "abs_values_LR = [abs(x) for x in LR_params_OLSorder.values()]\n",
    "\n",
    "ax.barh(keys_OLS, abs_values_OLS, label = 'OLS', color = 'dimgrey')\n",
    "ax.barh(keys_OLS, abs_values_RR, label = 'Ridge', color = 'purple', alpha = .7)\n",
    "ax.barh(keys_OLS, abs_values_LR, label = 'Lasso', color = 'orange', alpha = .3)\n",
    "ax.tick_params(labelsize = 14)\n",
    "ax.set_ylabel('Training Features', fontsize = 20)\n",
    "ax.set_xlabel('Magnitude of Coefficient', fontsize = 20)\n",
    "ax.legend(loc = 'center right', fontsize = 20)\n",
    "ax.set_title('Magnitude of Training Feature Coefficients', fontsize = 25)\n",
    "plt.show()"
   ]
  },
  {
   "cell_type": "markdown",
   "metadata": {},
   "source": [
    "#### 2.6 Let's examine a pair of features we believe to be related.  Is there a difference in the way Ridge and Lasso regression assign coefficients ...v"
   ]
  },
  {
   "cell_type": "markdown",
   "metadata": {},
   "source": [
    "<HR>\n",
    "Your answer here\n",
    "<HR>"
   ]
  },
  {
   "cell_type": "code",
   "execution_count": 31,
   "metadata": {},
   "outputs": [
    {
     "name": "stdout",
     "output_type": "stream",
     "text": [
      "Ridge atemp: 30.384088629048826, Lasso atemp: 12.868397254893534\n",
      "Ridge temp: 38.456208435774755, Lasso temp: 63.83086192823467\n"
     ]
    }
   ],
   "source": [
    "print('Ridge atemp: {0}, Lasso atemp: {1}'.format(BikeRRparams['atemp'], BikeLRparams['atemp']))\n",
    "print('Ridge temp: {0}, Lasso temp: {1}'.format(BikeRRparams['temp'], BikeLRparams['temp']))"
   ]
  },
  {
   "cell_type": "code",
   "execution_count": 32,
   "metadata": {},
   "outputs": [
    {
     "name": "stdout",
     "output_type": "stream",
     "text": [
      "500\n",
      "0.005\n"
     ]
    }
   ],
   "source": [
    "print(BikeRR_shrinkage_parameter)\n",
    "print(BikeLR_shrinkage_parameter)"
   ]
  },
  {
   "cell_type": "markdown",
   "metadata": {},
   "source": [
    "Yes, there is a difference in the way Ridge and Lasso assign coefficient to the predictors 'atemp' and 'temp'. Ridge weights 'temp' and 'atemp' more similarly (between the two predictors) than Lasso does. Lasso weighs 'temp' about 5 times heavier than 'atemp'. \n",
    "\n",
    "This is likely due to the large differences in their shrinkage parameters: Ridge's lambda = 500, while Lasso's lambda = 0.005. Increasing the value of lambda in a Ridge Regression tends to reduce the magnitude of the feature coefficients. So it makes sense that with such a large shrinkage parameter, we don't see such a high 'temp' coefficient as we do with Lasso regression."
   ]
  },
  {
   "cell_type": "markdown",
   "metadata": {},
   "source": [
    "#### 2.7.1 How do the estimated coefficients compare to or differ from ..."
   ]
  },
  {
   "cell_type": "markdown",
   "metadata": {},
   "source": [
    "As can be seen in the bar graph above, the coefficients of all three models differ significantly. While July has the largest coefficient magnitude in both the OLS and the Lasso models, year has the largest coefficient magnitude in the Ridge model. Lasso appears to follow a similar trend in decreasing coefficient magnitude as the OLS model, apart from a deviation at 'Storm'. On the other hand, Ridge does not follow a similar pattern at all; the magnitudes of its coefficients are all over the place in the OLS ordering of coefficients."
   ]
  },
  {
   "cell_type": "markdown",
   "metadata": {},
   "source": [
    "#### 2.7.2 Is there a difference between coefficients estimated by the two shrinkage methods ..."
   ]
  },
  {
   "cell_type": "markdown",
   "metadata": {},
   "source": [
    "Yes, there is a difference between the coefficients estimated by the two shrinkage methods. The shrinkage parameters for Lasso and Ridge are vastly different (0.005 and 500, respectively). The penalty in Lasso will force the coefficients to shrink closer to (and potentially become) zero, because it uses the sum of the absolutely values of the coefficients. On the other hand, the penalty in Ridge will decrease the coefficients' magnitude but will not eliminate the features (by making a coef = 0); this is because the penalty incoporates the sum of the squares of the coefficients (which is therefore small with coef < 0 and large with coef > 0). Since the shrinkage parameter for Ridge is so large, the majority of the feature coefficients are smaller than the corresponding coefficients found in the Lasso regression with a smaller shrinkage parameter."
   ]
  },
  {
   "cell_type": "markdown",
   "metadata": {},
   "source": [
    "#### 2.7.3 Is the significance related to the shrinkage in some way?"
   ]
  },
  {
   "cell_type": "markdown",
   "metadata": {},
   "source": [
    "Yes, the significance is related to the shrinkage. Ridge's shrinkage parameter is much larger than Lasso's, therefore leading to coefficients with a smaller magnitude than Lasso's coefficients. See 2.7.2 for further explanation."
   ]
  },
  {
   "cell_type": "markdown",
   "metadata": {},
   "source": [
    "<div class='exercise'> <b> Question 3: Polynomial Features, Interaction Terms, and Cross Validation </b> </div>\n"
   ]
  },
  {
   "cell_type": "markdown",
   "metadata": {},
   "source": [
    "We would like to fit a model to include all main effects and polynomial terms for numerical predictors up to the $4^{th}$ order. More precisely use the following terms: \n",
    " - predictors in `X_train` and `X_test`\n",
    " - $X^1_j$, $X^2_j$, $X^3_j$, and $X^4_j$ for each numerical predictor $X_j$\n",
    "\n",
    "**3.1** Create an expanded training set including all the desired terms mentioned above. Store that training set (as a pandas dataframe) in the variable `X_train_poly`.  Create the corresponding test set and store it as a pandas dataframe in `X_test_poly`.\n",
    "\n",
    "**3.2** Discuss the following:\n",
    "\n",
    "1. What are the dimensions of this 'design matrix' of all the predictor variables in 3.1?  \n",
    "2. What issues may we run into attempting to fit a regression model using all of these predictors?\n",
    "\n",
    "**3.3** Let's try fitting a regression model on all the predictors anyway.  Use the `LinearRegression` library from `sklearn` to fit a multiple linear regression model to the training set data in `X_train_poly`.  Store the fitted model in the variable `BikeOLSPolyModel`.\n",
    "\n",
    "**3.4** Discuss the following:\n",
    "1. What are the training and test $R^2$ scores? \n",
    "2. How does the model performance compare with the OLS model on the original set of features in Question 1?\n",
    "\n",
    "**3.5** The training set $R^2$ score we generated for our model with polynomial and interaction terms doesn't have any error bars.  Let's use cross-validation to generate sample sets of $R^2$ for our model. Use 5-fold cross-validation to generate $R^2$ scores for the multiple linear regression model with polynomial terms.  What are the mean and standard deviation of the $R^2$ scores for your model.\n",
    "\n",
    "**3.6** Visualize the $R^2$ scores generated from the 5-fold cross validation as a box and whisker plot.\n",
    "\n",
    "**3.7** We've used cross-validation to generate error bars around our $R^2$ scores, but another use of cross-validation is as a way of model selection.  Let's construct the following model alternatives:\n",
    "\n",
    "1. Multiple linear regression model generated based upon the feature set in Question 1 (let's call these the base features.\n",
    "2. base features plus polynomial features to order 2\n",
    "3. base features plus polynomial features to order 4\n",
    "\n",
    "Use 5-fold cross validation on the training set to select the best model.  Make sure to evaluate all the models as much as possible on the same folds.  For each model generate a mean and standard deviation for the $R^2$ score.\n",
    "\n",
    "**3.8** Visualize the $R^2$ scores generated for each model from 5-fold cross validation in box and whiskers plots.  Do the box and whisker plots influence your view of which model was best?\n",
    "\n",
    "**3.9** Evaluate each of the model alternatives on the test set.  How do the results compare with the results from cross-validation?"
   ]
  },
  {
   "cell_type": "markdown",
   "metadata": {},
   "source": [
    "### Answers"
   ]
  },
  {
   "cell_type": "markdown",
   "metadata": {},
   "source": [
    "#### 3.1 Create an expanded training set including all the desired terms mentioned above. Store that training set (as a numpy array) in the variable `X_train_poly`...."
   ]
  },
  {
   "cell_type": "code",
   "execution_count": 33,
   "metadata": {},
   "outputs": [],
   "source": [
    "# this is essentially from the solutions to HW3, #6\n",
    "def higher_order_features(dataframe, feature_column, d) -> 'pandas dataframe':\n",
    "    '''Take dataframe of features and return higher orders of continuous features\n",
    "    Args:\n",
    "        dataframe: pandas dataframe of features\n",
    "        feature_column: string of column name\n",
    "        d: degee of desired polynomial\n",
    "    Returns: \n",
    "        pandas dataframe of higher order features up to and including the degree specified in the arguments,\n",
    "        along with their respective feature names\n",
    "    '''\n",
    "    poly_model = PolynomialFeatures(d, include_bias = False)\n",
    "    feature_data = dataframe[feature_column]\n",
    "    \n",
    "    higher_orders = poly_model.fit_transform(feature_data.values.reshape(-1,1))\n",
    "    feature_names = poly_model.get_feature_names([feature_column])\n",
    "    \n",
    "    return pd.DataFrame(higher_orders[:,1:], columns = feature_names[1:])"
   ]
  },
  {
   "cell_type": "code",
   "execution_count": 34,
   "metadata": {},
   "outputs": [
    {
     "data": {
      "text/plain": [
       "<bound method DataFrame.idxmax of        hour  holiday  year  workingday      temp     atemp       hum  \\\n",
       "0         0        0     0           0 -1.332339 -1.090615  0.937108   \n",
       "1         1        0     0           0 -1.436131 -1.179015  0.885320   \n",
       "2         2        0     0           0 -1.436131 -1.179015  0.885320   \n",
       "3         3        0     0           0 -1.332339 -1.090615  0.626377   \n",
       "4         4        0     0           0 -1.332339 -1.090615  0.626377   \n",
       "5         5        0     0           0 -1.332339 -1.266834  0.626377   \n",
       "6         7        0     0           0 -1.539924 -1.266834  1.196051   \n",
       "7         8        0     0           0 -1.332339 -1.090615  0.626377   \n",
       "8        10        0     0           0 -0.605793 -0.474138  0.678165   \n",
       "9        11        0     0           0 -0.709585 -0.826577  0.937108   \n",
       "10       12        0     0           0 -0.398208 -0.297919  0.729954   \n",
       "11       13        0     0           0 -0.190623 -0.121700  0.471011   \n",
       "12       14        0     0           0 -0.190623 -0.121700  0.471011   \n",
       "13       15        0     0           0 -0.294416 -0.209519  0.729954   \n",
       "14       16        0     0           0 -0.398208 -0.297919  0.988897   \n",
       "15       17        0     0           0 -0.294416 -0.209519  0.988897   \n",
       "16       18        0     0           0 -0.398208 -0.297919  1.299629   \n",
       "17       19        0     0           0 -0.398208 -0.297919  1.299629   \n",
       "18       21        0     0           0 -0.502000 -0.385738  1.247840   \n",
       "19       22        0     0           0 -0.502000 -0.385738  1.610360   \n",
       "20       23        0     0           0 -0.190623 -0.121700  1.299629   \n",
       "21        0        0     0           0 -0.190623 -0.121700  1.299629   \n",
       "22        1        0     0           0 -0.294416 -0.209519  1.610360   \n",
       "23        2        0     0           0 -0.398208 -0.297919  1.921092   \n",
       "24        3        0     0           0 -0.190623 -0.121700  1.610360   \n",
       "25        4        0     0           0 -0.190623 -0.121700  1.610360   \n",
       "26        6        0     0           0 -0.398208 -0.297919  0.729954   \n",
       "27        7        0     0           0 -0.502000 -0.385738  0.678165   \n",
       "28        8        0     0           0 -0.502000 -0.385738  0.419222   \n",
       "29        9        0     0           0 -0.605793 -0.474138  0.678165   \n",
       "...     ...      ...   ...         ...       ...       ...       ...   \n",
       "13873     9        0     1           0 -1.332339 -1.531454 -0.564761   \n",
       "13874    11        0     1           0 -1.228547 -1.443053 -1.134436   \n",
       "13875    12        0     1           0 -1.124754 -1.443053 -1.393379   \n",
       "13876    13        0     1           0 -1.020962 -1.266834 -1.393379   \n",
       "13877    14        0     1           0 -1.020962 -1.179015 -1.393379   \n",
       "13878    15        0     1           0 -1.124754 -1.266834 -1.289802   \n",
       "13879    16        0     1           0 -1.124754 -1.355234 -1.289802   \n",
       "13880    17        0     1           0 -1.228547 -1.443053 -1.134436   \n",
       "13881    18        0     1           0 -1.332339 -1.531454 -0.979070   \n",
       "13882    21        0     1           0 -1.539924 -1.531454 -0.616550   \n",
       "13883    22        0     1           0 -1.539924 -1.619272 -0.409396   \n",
       "13884    23        0     1           0 -1.539924 -1.619272 -0.616550   \n",
       "13885     1        0     1           1 -1.643716 -1.707673 -0.409396   \n",
       "13886     2        0     1           1 -1.747509 -1.795492 -0.202241   \n",
       "13887     3        0     1           1 -1.747509 -1.707673 -0.202241   \n",
       "13888     4        0     1           1 -1.851301 -1.795492  0.315645   \n",
       "13889     7        0     1           1 -1.747509 -1.707673  0.056702   \n",
       "13890     8        0     1           1 -1.851301 -1.883892  0.315645   \n",
       "13891    10        0     1           1 -1.539924 -1.531454  0.315645   \n",
       "13892    11        0     1           1 -1.436131 -1.443053 -0.150453   \n",
       "13893    12        0     1           1 -1.332339 -1.443053 -0.357607   \n",
       "13894    13        0     1           1 -1.228547 -1.266834 -0.979070   \n",
       "13895    14        0     1           1 -1.124754 -1.179015 -0.927282   \n",
       "13896    15        0     1           1 -1.124754 -1.090615 -0.927282   \n",
       "13897    16        0     1           1 -1.228547 -1.266834 -0.771916   \n",
       "13898    17        0     1           1 -1.228547 -1.090615 -0.771916   \n",
       "13899    18        0     1           1 -1.228547 -1.179015 -0.771916   \n",
       "13900    20        0     1           1 -1.228547 -1.266834 -0.150453   \n",
       "13901    22        0     1           1 -1.228547 -1.179015 -0.357607   \n",
       "13902    23        0     1           1 -1.228547 -1.179015  0.108490   \n",
       "\n",
       "       windspeed  spring  summer  ...    Dec  Mon  Tue  Wed  Thu  Fri  Sat  \\\n",
       "0      -1.557515       0       0  ...      0    0    0    0    0    0    1   \n",
       "1      -1.557515       0       0  ...      0    0    0    0    0    0    1   \n",
       "2      -1.557515       0       0  ...      0    0    0    0    0    0    1   \n",
       "3      -1.557515       0       0  ...      0    0    0    0    0    0    1   \n",
       "4      -1.557515       0       0  ...      0    0    0    0    0    0    1   \n",
       "5      -0.823119       0       0  ...      0    0    0    0    0    0    1   \n",
       "6      -1.557515       0       0  ...      0    0    0    0    0    0    1   \n",
       "7      -1.557515       0       0  ...      0    0    0    0    0    0    1   \n",
       "8       0.521907       0       0  ...      0    0    0    0    0    0    1   \n",
       "9       0.766979       0       0  ...      0    0    0    0    0    0    1   \n",
       "10      0.766979       0       0  ...      0    0    0    0    0    0    1   \n",
       "11      0.889105       0       0  ...      0    0    0    0    0    0    1   \n",
       "12      0.766979       0       0  ...      0    0    0    0    0    0    1   \n",
       "13      0.889105       0       0  ...      0    0    0    0    0    0    1   \n",
       "14      0.889105       0       0  ...      0    0    0    0    0    0    1   \n",
       "15      0.766979       0       0  ...      0    0    0    0    0    0    1   \n",
       "16      0.521907       0       0  ...      0    0    0    0    0    0    1   \n",
       "17      0.521907       0       0  ...      0    0    0    0    0    0    1   \n",
       "18      0.032583       0       0  ...      0    0    0    0    0    0    1   \n",
       "19      0.277655       0       0  ...      0    0    0    0    0    0    1   \n",
       "20      0.889105       0       0  ...      0    0    0    0    0    0    1   \n",
       "21      0.889105       0       0  ...      0    0    0    0    0    0    0   \n",
       "22      0.521907       0       0  ...      0    0    0    0    0    0    0   \n",
       "23      0.766979       0       0  ...      0    0    0    0    0    0    0   \n",
       "24      0.032583       0       0  ...      0    0    0    0    0    0    0   \n",
       "25      0.032583       0       0  ...      0    0    0    0    0    0    0   \n",
       "26      0.889105       0       0  ...      0    0    0    0    0    0    0   \n",
       "27      0.032583       0       0  ...      0    0    0    0    0    0    0   \n",
       "28      0.277655       0       0  ...      0    0    0    0    0    0    0   \n",
       "29      0.277655       0       0  ...      0    0    0    0    0    0    0   \n",
       "...          ...     ...     ...  ...    ...  ...  ...  ...  ...  ...  ...   \n",
       "13873   1.623501       0       0  ...      1    0    0    0    0    0    0   \n",
       "13874   1.867754       0       0  ...      1    0    0    0    0    0    0   \n",
       "13875   3.213600       0       0  ...      1    0    0    0    0    0    0   \n",
       "13876   3.825050       0       0  ...      1    0    0    0    0    0    0   \n",
       "13877   2.234952       0       0  ...      1    0    0    0    0    0    0   \n",
       "13878   1.134177       0       0  ...      1    0    0    0    0    0    0   \n",
       "13879   1.867754       0       0  ...      1    0    0    0    0    0    0   \n",
       "13880   1.134177       0       0  ...      1    0    0    0    0    0    0   \n",
       "13881   0.889105       0       0  ...      1    0    0    0    0    0    0   \n",
       "13882  -0.211669       0       0  ...      1    0    0    0    0    0    0   \n",
       "13883   0.032583       0       0  ...      1    0    0    0    0    0    0   \n",
       "13884   0.277655       0       0  ...      1    0    0    0    0    0    0   \n",
       "13885   0.032583       0       0  ...      1    1    0    0    0    0    0   \n",
       "13886  -0.211669       0       0  ...      1    1    0    0    0    0    0   \n",
       "13887  -0.700993       0       0  ...      1    1    0    0    0    0    0   \n",
       "13888  -0.700993       0       0  ...      1    1    0    0    0    0    0   \n",
       "13889  -0.456741       0       0  ...      1    1    0    0    0    0    0   \n",
       "13890  -0.456741       0       0  ...      1    1    0    0    0    0    0   \n",
       "13891  -0.456741       0       0  ...      1    1    0    0    0    0    0   \n",
       "13892   0.032583       0       0  ...      1    1    0    0    0    0    0   \n",
       "13893   0.032583       0       0  ...      1    1    0    0    0    0    0   \n",
       "13894  -0.211669       0       0  ...      1    1    0    0    0    0    0   \n",
       "13895   0.277655       0       0  ...      1    1    0    0    0    0    0   \n",
       "13896  -0.456741       0       0  ...      1    1    0    0    0    0    0   \n",
       "13897   0.032583       0       0  ...      1    1    0    0    0    0    0   \n",
       "13898  -0.823119       0       0  ...      1    1    0    0    0    0    0   \n",
       "13899  -0.456741       0       0  ...      1    1    0    0    0    0    0   \n",
       "13900  -0.211669       0       0  ...      1    1    0    0    0    0    0   \n",
       "13901  -0.456741       0       0  ...      1    1    0    0    0    0    0   \n",
       "13902  -0.456741       0       0  ...      1    1    0    0    0    0    0   \n",
       "\n",
       "       Cloudy  Snow  Storm  \n",
       "0           0     0      0  \n",
       "1           0     0      0  \n",
       "2           0     0      0  \n",
       "3           0     0      0  \n",
       "4           0     0      0  \n",
       "5           1     0      0  \n",
       "6           0     0      0  \n",
       "7           0     0      0  \n",
       "8           0     0      0  \n",
       "9           0     0      0  \n",
       "10          0     0      0  \n",
       "11          1     0      0  \n",
       "12          1     0      0  \n",
       "13          1     0      0  \n",
       "14          1     0      0  \n",
       "15          1     0      0  \n",
       "16          0     1      0  \n",
       "17          0     1      0  \n",
       "18          1     0      0  \n",
       "19          1     0      0  \n",
       "20          1     0      0  \n",
       "21          1     0      0  \n",
       "22          1     0      0  \n",
       "23          1     0      0  \n",
       "24          1     0      0  \n",
       "25          1     0      0  \n",
       "26          0     1      0  \n",
       "27          1     0      0  \n",
       "28          0     1      0  \n",
       "29          1     0      0  \n",
       "...       ...   ...    ...  \n",
       "13873       0     0      0  \n",
       "13874       0     0      0  \n",
       "13875       0     0      0  \n",
       "13876       0     0      0  \n",
       "13877       0     0      0  \n",
       "13878       0     0      0  \n",
       "13879       0     0      0  \n",
       "13880       0     0      0  \n",
       "13881       1     0      0  \n",
       "13882       0     0      0  \n",
       "13883       0     0      0  \n",
       "13884       0     0      0  \n",
       "13885       0     0      0  \n",
       "13886       0     0      0  \n",
       "13887       0     0      0  \n",
       "13888       0     0      0  \n",
       "13889       0     0      0  \n",
       "13890       0     0      0  \n",
       "13891       1     0      0  \n",
       "13892       1     0      0  \n",
       "13893       1     0      0  \n",
       "13894       1     0      0  \n",
       "13895       1     0      0  \n",
       "13896       1     0      0  \n",
       "13897       1     0      0  \n",
       "13898       1     0      0  \n",
       "13899       1     0      0  \n",
       "13900       1     0      0  \n",
       "13901       0     0      0  \n",
       "13902       0     0      0  \n",
       "\n",
       "[13903 rows x 31 columns]>"
      ]
     },
     "execution_count": 34,
     "metadata": {},
     "output_type": "execute_result"
    }
   ],
   "source": [
    "test = X_train.reset_index(drop = True)\n",
    "test.idxmax"
   ]
  },
  {
   "cell_type": "code",
   "execution_count": 35,
   "metadata": {},
   "outputs": [],
   "source": [
    "def get_poly_dataset(training_df, test_df, d):\n",
    "    '''Take original training and test datasets and return those datasets with added polynomial features\n",
    "    Args: \n",
    "        training_df: pandas dataframe of training features\n",
    "        test_df: pandas dataframe of test features\n",
    "        d: degree of desired polynomial\n",
    "    Returns:\n",
    "        training df and test df with polynomial features up through degree 4\n",
    "    '''\n",
    "    continuous_columns = ['temp', 'atemp', 'hum', 'windspeed']\n",
    "\n",
    "    higher_orders_train = [higher_order_features(training_df, feature, d) for feature in continuous_columns]\n",
    "    higher_orders_test = [higher_order_features(test_df, feature, d) for feature in continuous_columns]\n",
    "\n",
    "    higher_orders_train = pd.concat(higher_orders_train, axis = 1)\n",
    "    higher_orders_test = pd.concat(higher_orders_test, axis = 1)\n",
    "\n",
    "    higher_orders_column_names = higher_orders_train.columns\n",
    "\n",
    "    # standardize higher order columns (I checked outside of the function and without scaling, \n",
    "    # these higher ordervariables aren't standardized, even though they are created off of standardized variables, \n",
    "    # which I don't quite understand. But I'm therefore scaling the higher order features)\n",
    "    scaler = StandardScaler().fit(higher_orders_train)\n",
    "    higher_orders_train[higher_orders_column_names] = scaler.transform(higher_orders_train)\n",
    "    higher_orders_test[higher_orders_column_names] = scaler.transform(higher_orders_test)\n",
    "    \n",
    "    # reset X_train and X_test indices, so the dataframe join works appropriately\n",
    "    X_train_reset = X_train.reset_index(drop = True)\n",
    "    X_test_reset = X_test.reset_index(drop = True)\n",
    "    \n",
    "    X_poly_train = pd.concat([X_train_reset, higher_orders_train], axis = 1)\n",
    "    X_poly_test = pd.concat([X_test_reset, higher_orders_test], axis = 1)\n",
    "    \n",
    "    return X_poly_train, X_poly_test   "
   ]
  },
  {
   "cell_type": "code",
   "execution_count": 36,
   "metadata": {},
   "outputs": [],
   "source": [
    "X_poly_train, X_poly_test = get_poly_dataset(X_train, X_test, 4)"
   ]
  },
  {
   "cell_type": "markdown",
   "metadata": {},
   "source": [
    "#### 3.2.1 What are the dimensions of this 'design matrix'...**"
   ]
  },
  {
   "cell_type": "markdown",
   "metadata": {},
   "source": [
    "<HR>\n",
    "Your answer here\n",
    "<HR>"
   ]
  },
  {
   "cell_type": "code",
   "execution_count": 37,
   "metadata": {},
   "outputs": [
    {
     "name": "stdout",
     "output_type": "stream",
     "text": [
      "(13903, 31)\n",
      "(3476, 31)\n"
     ]
    }
   ],
   "source": [
    "# for reference\n",
    "print(X_train.shape)\n",
    "print(X_test.shape)"
   ]
  },
  {
   "cell_type": "code",
   "execution_count": 38,
   "metadata": {},
   "outputs": [
    {
     "name": "stdout",
     "output_type": "stream",
     "text": [
      "Dimensions of polynomial training dataset: (13903, 43)\n",
      "Dimensions of polynomial test dataset: (3476, 43)\n"
     ]
    }
   ],
   "source": [
    "print('Dimensions of polynomial training dataset: {}'.format(X_poly_train.shape))\n",
    "print('Dimensions of polynomial test dataset: {}'.format(X_poly_test.shape))"
   ]
  },
  {
   "cell_type": "markdown",
   "metadata": {},
   "source": [
    "Each of the polynomial datasets now has 43 predictors, which makes sense given that we added 3 higher order polynomials for 4 features. The polynomial contain the same number of observations as their original datasets (13903 for the training dataset, 3476 for the test dataset)."
   ]
  },
  {
   "cell_type": "markdown",
   "metadata": {},
   "source": [
    "#### 3.2.2 What issues may we run into attempting to fit a regression model using all of these predictors? ...**"
   ]
  },
  {
   "cell_type": "markdown",
   "metadata": {},
   "source": [
    "The continuous variables and their respective higher order polynomial variables will be highly correlated and all be dependent on the original continuous variable. Since we are not including interaction terms, we may overfit the regression model with all of these predictors."
   ]
  },
  {
   "cell_type": "markdown",
   "metadata": {},
   "source": [
    "#### 3.3 Let's try fitting a regression model on all the predictors anyway.  Use the `LinearRegression` library from `sklearn` to fit a multiple linear regression model ...."
   ]
  },
  {
   "cell_type": "code",
   "execution_count": 39,
   "metadata": {},
   "outputs": [],
   "source": [
    "BikeOLSPolyModel = LinearRegression().fit(X_poly_train, y_train)"
   ]
  },
  {
   "cell_type": "markdown",
   "metadata": {},
   "source": [
    "#### 3.4.1 What are the training and test $R^2$ scores?"
   ]
  },
  {
   "cell_type": "code",
   "execution_count": 40,
   "metadata": {},
   "outputs": [
    {
     "name": "stdout",
     "output_type": "stream",
     "text": [
      "Poly training R^2 score: 0.422308\n",
      "Poly test R^2 score: 0.420279\n"
     ]
    }
   ],
   "source": [
    "pred_poly_train = BikeOLSPolyModel.predict(X_poly_train)\n",
    "pred_poly_test = BikeOLSPolyModel.predict(X_poly_test)\n",
    "r2_train_OLS_poly = r2_score(y_train, pred_poly_train)\n",
    "r2_test_OLS_poly = r2_score(y_test, pred_poly_test)\n",
    "print('Poly training R^2 score: {0:6f}'.format(r2_train_OLS_poly))\n",
    "print('Poly test R^2 score: {0:6f}'.format(r2_test_OLS_poly))"
   ]
  },
  {
   "cell_type": "code",
   "execution_count": 41,
   "metadata": {},
   "outputs": [],
   "source": [
    "BikePoly_r2scores = {'r2_training': r2_train_OLS_poly, 'r2_test': r2_test_OLS_poly}"
   ]
  },
  {
   "cell_type": "code",
   "execution_count": 42,
   "metadata": {},
   "outputs": [
    {
     "data": {
      "text/plain": [
       "0.42027912762252395"
      ]
     },
     "execution_count": 42,
     "metadata": {},
     "output_type": "execute_result"
    }
   ],
   "source": [
    "BikePoly_r2scores['r2_test']"
   ]
  },
  {
   "cell_type": "code",
   "execution_count": 43,
   "metadata": {},
   "outputs": [
    {
     "name": "stdout",
     "output_type": "stream",
     "text": [
      "Training R^2 score: 0.406539\n",
      "Test R^2 score: 0.406386\n"
     ]
    }
   ],
   "source": [
    "print('Training R^2 score: {0:6f}'.format(BikeOLS_r2scores['r2_training']))\n",
    "print('Test R^2 score: {0:6f}'.format(BikeOLS_r2scores['r2_test']))"
   ]
  },
  {
   "cell_type": "markdown",
   "metadata": {},
   "source": [
    "#### 3.4.2 How does the model performance compare with the OLS model on the original set of features in Question 1?"
   ]
  },
  {
   "cell_type": "markdown",
   "metadata": {},
   "source": [
    "The model's performance has improved when compared with the OLS model on the original set of features. The R^2 values for both the poly training and test sets have improved to ~0.42; on the original dataset, the were ~0.41."
   ]
  },
  {
   "cell_type": "markdown",
   "metadata": {},
   "source": [
    "#### 3.5 The training set $R^2$ score we generated for our model with polynomial and interaction terms doesn't have any error bars.  Let's use cross-validation to generate sample..."
   ]
  },
  {
   "cell_type": "code",
   "execution_count": 44,
   "metadata": {},
   "outputs": [
    {
     "data": {
      "text/plain": [
       "array([0.10950052, 0.3341185 , 0.21857369, 0.33524106, 0.3389565 ])"
      ]
     },
     "execution_count": 44,
     "metadata": {},
     "output_type": "execute_result"
    }
   ],
   "source": [
    "LinReg_object = LinearRegression()\n",
    "cv_r2 = cross_val_score(LinReg_object, X_poly_train, y_train, cv = 5)\n",
    "cv_r2"
   ]
  },
  {
   "cell_type": "code",
   "execution_count": 45,
   "metadata": {},
   "outputs": [
    {
     "name": "stdout",
     "output_type": "stream",
     "text": [
      "The mean of the R^2 scores is: 0.26727805322296977\n",
      "The standard deviation of the R^2 scores is: 0.09109366555046658\n"
     ]
    }
   ],
   "source": [
    "print('The mean of the R^2 scores is: {}'.format(np.mean(cv_r2)))\n",
    "print('The standard deviation of the R^2 scores is: {}'.format(np.std(cv_r2)))"
   ]
  },
  {
   "cell_type": "markdown",
   "metadata": {},
   "source": [
    "#### 3.6 Visualize the $R^2$ scores generated from the 5-fold cross validation as a box and whisker plot."
   ]
  },
  {
   "cell_type": "code",
   "execution_count": 46,
   "metadata": {},
   "outputs": [
    {
     "data": {
      "image/png": "[encoded data removed]",
      "text/plain": [
       "<Figure size 864x576 with 1 Axes>"
      ]
     },
     "metadata": {},
     "output_type": "display_data"
    }
   ],
   "source": [
    "fig, ax = plt.subplots(1, 1, figsize = (12, 8))\n",
    "\n",
    "ax.boxplot(cv_r2)\n",
    "ax.set_xticklabels([])\n",
    "ax.tick_params(labelsize = 14)\n",
    "ax.set_ylabel('$R^{2}$ scores', fontsize = 16)\n",
    "ax.set_xlabel('Cross validation = 5', fontsize = 16)\n",
    "ax.set_title(r'Distribution of $R^{2}$ Scores for Cross Validation', fontsize = 18)\n",
    "\n",
    "plt.show()"
   ]
  },
  {
   "cell_type": "markdown",
   "metadata": {},
   "source": [
    "#### 3.7 We've used cross-validation to generate error bars around our $R^2$ scores, but another use of cross-validation is as a way of model selection.  Let's construct the following model alternatives ..."
   ]
  },
  {
   "cell_type": "code",
   "execution_count": 47,
   "metadata": {},
   "outputs": [],
   "source": [
    "def compute_r2(Xtrain, Ytrain, Xvalid, Yvalid):\n",
    "    '''Take training and validation sets and return R^2 scores for training and validation data\n",
    "    Args:\n",
    "        Xtrain and Ytrain: feature and target training datasets, respectively\n",
    "        Xvalid and Yvalid: feature and target validation datasets, respectively\n",
    "    Returns:\n",
    "        R^2 scores for the training data and the validation data\n",
    "    '''\n",
    "    lreg = LinearRegression()\n",
    "    lreg.fit(Xtrain, Ytrain)\n",
    "    predict_train = lreg.predict(Xtrain)\n",
    "    predict_valid = lreg.predict(Xvalid)\n",
    "    train_r2 = r2_score(Ytrain, predict_train)\n",
    "    valid_r2 = r2_score(Yvalid, predict_valid)\n",
    "\n",
    "    return train_r2, valid_r2"
   ]
  },
  {
   "cell_type": "code",
   "execution_count": 48,
   "metadata": {},
   "outputs": [],
   "source": [
    "def r2_cross_val(Xtrain, Ytrain):\n",
    "    '''Take training data and return R^2 scores for training and validation sets, with 5-fold cross-validation\n",
    "    Args:\n",
    "        Xtrain and Ytrain: feature and target training datasets, respectively\n",
    "    Returns:\n",
    "        5-fold cross-validation R^2 scores on training and validation data\n",
    "    '''\n",
    "    fold = 0\n",
    "    train_r2_cv = np.zeros(5)\n",
    "    valid_r2_cv = np.zeros(5)\n",
    "    for train, valid in KFold(5, random_state = 42).split(range(len(Xtrain))): \n",
    "        train_set = Xtrain.iloc[train]\n",
    "        valid_set = Xtrain.iloc[valid]\n",
    "        # Compute R^2 at each fold\n",
    "        train_r2_cv[fold], valid_r2_cv[fold] = compute_r2(train_set, Ytrain[train], valid_set, Ytrain[valid])\n",
    "        fold += 1\n",
    "    return train_r2_cv, valid_r2_cv"
   ]
  },
  {
   "cell_type": "code",
   "execution_count": 49,
   "metadata": {},
   "outputs": [
    {
     "name": "stdout",
     "output_type": "stream",
     "text": [
      "OLS training R^2 score: mean = 0.40565701448951524 and std = 0.010139840622957709\n",
      "OLS validation R^2 score: mean = 0.2579944364362185 and std = 0.0922005509622769\n"
     ]
    }
   ],
   "source": [
    "OLS_train_r2, OLS_valid_r2 = r2_cross_val(X_train, y_train)\n",
    "mean_train_OLS_r2 = np.mean(OLS_train_r2)\n",
    "mean_valid_OLS_r2 = np.mean(OLS_valid_r2)\n",
    "std_train_OLS_r2 = np.std(OLS_train_r2)\n",
    "std_valid_OLS_r2 = np.std(OLS_valid_r2)\n",
    "print('OLS training R^2 score: mean = {0} and std = {1}'.format(mean_train_OLS_r2, std_train_OLS_r2))\n",
    "print('OLS validation R^2 score: mean = {0} and std = {1}'.format(mean_valid_OLS_r2, std_valid_OLS_r2))"
   ]
  },
  {
   "cell_type": "code",
   "execution_count": 50,
   "metadata": {},
   "outputs": [
    {
     "name": "stdout",
     "output_type": "stream",
     "text": [
      "Poly of degree 2 training R^2 score: mean = 0.4114681021195823 and std = 0.011389850641179188\n",
      "Poly of degree 2 validation R^2 score: mean = 0.263258751169427 and std = 0.07670352483743688\n"
     ]
    }
   ],
   "source": [
    "X_poly2_train, X_poly2_test = get_poly_dataset(X_train, X_test, 2)\n",
    "poly2_train_r2, poly2_valid_r2 = r2_cross_val(X_poly2_train, y_train)\n",
    "mean_train_poly2_r2 = np.mean(poly2_train_r2)\n",
    "mean_valid_poly2_r2 = np.mean(poly2_valid_r2)\n",
    "std_train_poly2_r2 = np.std(poly2_train_r2)\n",
    "std_valid_poly2_r2 = np.std(poly2_valid_r2)\n",
    "print('Poly of degree 2 training R^2 score: mean = {0} and std = {1}'.format(mean_train_poly2_r2, std_train_poly2_r2))\n",
    "print('Poly of degree 2 validation R^2 score: mean = {0} and std = {1}'.format(mean_valid_poly2_r2, \n",
    "                                                                             std_valid_poly2_r2))"
   ]
  },
  {
   "cell_type": "code",
   "execution_count": 51,
   "metadata": {},
   "outputs": [
    {
     "name": "stdout",
     "output_type": "stream",
     "text": [
      "Poly of degree 4 training R^2 score: mean = 0.42208134233002925 and std = 0.01115583652768066\n",
      "Poly of degree 4 validation R^2 score: mean = 0.26727805322296977 and std = 0.09109366555046658\n"
     ]
    }
   ],
   "source": [
    "poly4_train_r2, poly4_valid_r2 = r2_cross_val(X_poly_train, y_train)\n",
    "mean_train_poly4_r2 = np.mean(poly4_train_r2)\n",
    "mean_valid_poly4_r2 = np.mean(poly4_valid_r2)\n",
    "std_train_poly4_r2 = np.std(poly4_train_r2)\n",
    "std_valid_poly4_r2 = np.std(poly4_valid_r2)\n",
    "print('Poly of degree 4 training R^2 score: mean = {0} and std = {1}'.format(mean_train_poly4_r2, std_train_poly4_r2))\n",
    "print('Poly of degree 4 validation R^2 score: mean = {0} and std = {1}'.format(mean_valid_poly4_r2, \n",
    "                                                                             std_valid_poly4_r2))"
   ]
  },
  {
   "cell_type": "markdown",
   "metadata": {},
   "source": [
    "The model with the highest mean R^2 score on the validation is the polynomial of degree 4 (score = 0.2673). Because of this, the polynomial of degree 4 is a slightly better model than the polynomial of degree 2 and the OLS model (scores of 0.2633 and 0.2580, respectively)."
   ]
  },
  {
   "cell_type": "markdown",
   "metadata": {},
   "source": [
    "#### 3.8 Visualize the $R^2$ scores generated for each model from 5-fold cross validation in box and whiskers plots.  Do the box and whisker plots influence your view of which model was best? ..."
   ]
  },
  {
   "cell_type": "code",
   "execution_count": 52,
   "metadata": {},
   "outputs": [
    {
     "data": {
      "image/png": "[encoded data removed]",
      "text/plain": [
       "<Figure size 864x576 with 1 Axes>"
      ]
     },
     "metadata": {},
     "output_type": "display_data"
    }
   ],
   "source": [
    "cv_r2_list = [OLS_valid_r2, poly2_valid_r2, poly4_valid_r2]\n",
    "labels = ['OLS', 'Poly, degree 2', 'Poly, degree 4']\n",
    "\n",
    "fig, ax = plt.subplots(1, 1, figsize = (12, 8))\n",
    "\n",
    "ax.boxplot(cv_r2_list)\n",
    "ax.set_xticklabels(labels)\n",
    "ax.tick_params(labelsize = 14)\n",
    "ax.set_ylabel('$R^{2}$ scores', fontsize = 16)\n",
    "ax.set_xlabel('Cross validation = 5', fontsize = 16)\n",
    "ax.set_title(r'Distribution of $R^{2}$ Scores for Cross Validation', fontsize = 18)\n",
    "\n",
    "plt.show()\n"
   ]
  },
  {
   "cell_type": "code",
   "execution_count": 53,
   "metadata": {},
   "outputs": [
    {
     "name": "stdout",
     "output_type": "stream",
     "text": [
      "Polynomial of degree four: Q1 = 0.218573688866458, Q3 = 0.3352410584506209\n",
      "Polynomial of degree two: Q1 = 0.2122294421447648, Q3 = 0.32103556507836917\n",
      "OLS: Q1 = 0.1953169093472884, Q3 = 0.3331346052054591\n"
     ]
    }
   ],
   "source": [
    "lower_quart_poly4, upper_quart_poly4 = np.percentile(poly4_valid_r2, [25, 75])\n",
    "lower_quart_poly2, upper_quart_poly2 = np.percentile(poly2_valid_r2, [25, 75])\n",
    "lower_quart_OLS, upper_quart_OLS = np.percentile(OLS_valid_r2, [25, 75])\n",
    "print('Polynomial of degree four: Q1 = {0}, Q3 = {1}'.format(lower_quart_poly4, upper_quart_poly4))\n",
    "print('Polynomial of degree two: Q1 = {0}, Q3 = {1}'.format(lower_quart_poly2, upper_quart_poly2))\n",
    "print('OLS: Q1 = {0}, Q3 = {1}'.format(lower_quart_OLS, upper_quart_OLS))"
   ]
  },
  {
   "cell_type": "markdown",
   "metadata": {},
   "source": [
    "While the polynomial of degree 2 has a higher minimum and maximum than the OLS and poly of degree 4 models, it's median is lower than the other two models. Polynomial of degree 4 has the highest median of all three. Polynomial of degree 4 also has both the highest lower quartile and highest upper quartile across all three models. Because of this, I'm more convinced that the polynomial of degree 4 is the best model."
   ]
  },
  {
   "cell_type": "markdown",
   "metadata": {},
   "source": [
    "#### 3.9 Evaluate each of the model alternatives on the  test set.  How do the results compare with the results from cross-validation?"
   ]
  },
  {
   "cell_type": "code",
   "execution_count": 54,
   "metadata": {},
   "outputs": [],
   "source": [
    "poly2_model = LinearRegression().fit(X_poly2_train, y_train)\n",
    "predict_test = poly2_model.predict(X_poly2_test)\n",
    "poly2_test_r2 = r2_score(y_test, predict_test)"
   ]
  },
  {
   "cell_type": "code",
   "execution_count": 55,
   "metadata": {},
   "outputs": [
    {
     "name": "stdout",
     "output_type": "stream",
     "text": [
      "OLS test R^2 score: 0.406386\n",
      "Poly of degree 2 test R^2 score: 0.410760\n",
      "Poly of degree 4 test R^2 score: 0.420279\n"
     ]
    }
   ],
   "source": [
    "print('OLS test R^2 score: {0:6f}'.format(BikeOLS_r2scores['r2_test'])) # from part 3.4.1\n",
    "print('Poly of degree 2 test R^2 score: {0:6f}'.format(poly2_test_r2))\n",
    "print('Poly of degree 4 test R^2 score: {0:6f}'.format(BikePoly_r2scores['r2_test'])) # from part 3.4.1"
   ]
  },
  {
   "cell_type": "markdown",
   "metadata": {},
   "source": [
    "These results confirm the best model chosen in 3.7 and 3.8: polynomial of degree 4. This model's R^2 score on the test set is the highest out of all three models. "
   ]
  }
 ],
 "metadata": {
  "anaconda-cloud": {},
  "kernelspec": {
   "display_name": "Python 3",
   "language": "python",
   "name": "python3"
  },
  "language_info": {
   "codemirror_mode": {
    "name": "ipython",
    "version": 3
   },
   "file_extension": ".py",
   "mimetype": "text/x-python",
   "name": "python",
   "nbconvert_exporter": "python",
   "pygments_lexer": "ipython3",
   "version": "3.6.5"
  }
 },
 "nbformat": 4,
 "nbformat_minor": 2
}
