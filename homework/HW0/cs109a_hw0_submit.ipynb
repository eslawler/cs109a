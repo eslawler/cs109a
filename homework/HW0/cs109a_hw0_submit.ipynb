{
 "cells": [
  {
   "cell_type": "code",
   "execution_count": 1,
   "metadata": {},
   "outputs": [
    {
     "ename": "FileNotFoundError",
     "evalue": "[Errno 2] No such file or directory: 'cs109.css'",
     "output_type": "error",
     "traceback": [
      "\u001b[0;31m---------------------------------------------------------------------------\u001b[0m",
      "\u001b[0;31mFileNotFoundError\u001b[0m                         Traceback (most recent call last)",
      "\u001b[0;32m<ipython-input-1-0c6114c183cf>\u001b[0m in \u001b[0;36m<module>\u001b[0;34m()\u001b[0m\n\u001b[1;32m      3\u001b[0m     \u001b[0mstyles\u001b[0m \u001b[0;34m=\u001b[0m \u001b[0mopen\u001b[0m\u001b[0;34m(\u001b[0m\u001b[0;34m\"cs109.css\"\u001b[0m\u001b[0;34m,\u001b[0m \u001b[0;34m\"r\"\u001b[0m\u001b[0;34m)\u001b[0m\u001b[0;34m.\u001b[0m\u001b[0mread\u001b[0m\u001b[0;34m(\u001b[0m\u001b[0;34m)\u001b[0m\u001b[0;34m;\u001b[0m\u001b[0;34m\u001b[0m\u001b[0m\n\u001b[1;32m      4\u001b[0m     \u001b[0;32mreturn\u001b[0m \u001b[0mHTML\u001b[0m\u001b[0;34m(\u001b[0m\u001b[0mstyles\u001b[0m\u001b[0;34m)\u001b[0m\u001b[0;34m\u001b[0m\u001b[0m\n\u001b[0;32m----> 5\u001b[0;31m \u001b[0mcss_styling\u001b[0m\u001b[0;34m(\u001b[0m\u001b[0;34m)\u001b[0m\u001b[0;34m\u001b[0m\u001b[0m\n\u001b[0m",
      "\u001b[0;32m<ipython-input-1-0c6114c183cf>\u001b[0m in \u001b[0;36mcss_styling\u001b[0;34m()\u001b[0m\n\u001b[1;32m      1\u001b[0m \u001b[0;32mfrom\u001b[0m \u001b[0mIPython\u001b[0m\u001b[0;34m.\u001b[0m\u001b[0mcore\u001b[0m\u001b[0;34m.\u001b[0m\u001b[0mdisplay\u001b[0m \u001b[0;32mimport\u001b[0m \u001b[0mHTML\u001b[0m\u001b[0;34m\u001b[0m\u001b[0m\n\u001b[1;32m      2\u001b[0m \u001b[0;32mdef\u001b[0m \u001b[0mcss_styling\u001b[0m\u001b[0;34m(\u001b[0m\u001b[0;34m)\u001b[0m\u001b[0;34m:\u001b[0m\u001b[0;34m\u001b[0m\u001b[0m\n\u001b[0;32m----> 3\u001b[0;31m     \u001b[0mstyles\u001b[0m \u001b[0;34m=\u001b[0m \u001b[0mopen\u001b[0m\u001b[0;34m(\u001b[0m\u001b[0;34m\"cs109.css\"\u001b[0m\u001b[0;34m,\u001b[0m \u001b[0;34m\"r\"\u001b[0m\u001b[0;34m)\u001b[0m\u001b[0;34m.\u001b[0m\u001b[0mread\u001b[0m\u001b[0;34m(\u001b[0m\u001b[0;34m)\u001b[0m\u001b[0;34m;\u001b[0m\u001b[0;34m\u001b[0m\u001b[0m\n\u001b[0m\u001b[1;32m      4\u001b[0m     \u001b[0;32mreturn\u001b[0m \u001b[0mHTML\u001b[0m\u001b[0;34m(\u001b[0m\u001b[0mstyles\u001b[0m\u001b[0;34m)\u001b[0m\u001b[0;34m\u001b[0m\u001b[0m\n\u001b[1;32m      5\u001b[0m \u001b[0mcss_styling\u001b[0m\u001b[0;34m(\u001b[0m\u001b[0;34m)\u001b[0m\u001b[0;34m\u001b[0m\u001b[0m\n",
      "\u001b[0;31mFileNotFoundError\u001b[0m: [Errno 2] No such file or directory: 'cs109.css'"
     ]
    }
   ],
   "source": [
    "from IPython.core.display import HTML\n",
    "def css_styling(): \n",
    "    styles = open(\"cs109.css\", \"r\").read(); \n",
    "    return HTML(styles)\n",
    "css_styling()"
   ]
  },
  {
   "cell_type": "markdown",
   "metadata": {
    "button": false,
    "new_sheet": false,
    "run_control": {
     "read_only": false
    }
   },
   "source": [
    "# <img style=\"float: left; padding-right: 10px; width: 45px\" src=\"iacs.png\"> S-109A Introduction to Data Science \n",
    "\n",
    "## Homework 0\n",
    "\n",
    "**Harvard University**<br/>\n",
    "**Summer 2018**<br/>\n",
    "**Instructors**: Pavlos Protopapas and Kevin Rader\n",
    "\n",
    "---\n",
    "\n",
    "This is a homework which you must turn in but it won't be graded.\n",
    "\n",
    "This homework has the following intentions:\n",
    "\n",
    "1. To get you familiar with the jupyter/python environment.\n",
    "2. You should easily understand these questions and what is being asked. If you struggle, this may not be the right class for you.\n",
    "3. You should be able to understand the intent (if not the exact syntax) of the code and be able to look up on Google and provide code that is asked of you. If you cannot, this may not be the right class for you.\n",
    "\n"
   ]
  },
  {
   "cell_type": "markdown",
   "metadata": {
    "button": false,
    "new_sheet": false,
    "run_control": {
     "read_only": false
    }
   },
   "source": [
    "---"
   ]
  },
  {
   "cell_type": "markdown",
   "metadata": {
    "button": false,
    "new_sheet": false,
    "run_control": {
     "read_only": false
    }
   },
   "source": [
    "## Basic Math and Probability/Statistics Calculations"
   ]
  },
  {
   "cell_type": "markdown",
   "metadata": {
    "button": false,
    "new_sheet": false,
    "run_control": {
     "read_only": false
    }
   },
   "source": [
    "We'll start you off with some basic math and statistics problems questions to make sure you have the appropriate background to be comfortable with concepts that will come up in CS 109a."
   ]
  },
  {
   "cell_type": "markdown",
   "metadata": {
    "button": false,
    "new_sheet": false,
    "run_control": {
     "read_only": false
    }
   },
   "source": [
    "### <p class=\"q1\"> Question 1: Mathiness is What Brings Us Together Today </p>\n",
    "\n",
    "**Matrix Operations**\n",
    "\n",
    "*Complete the following matrix operations (show your work as a markdown/latex notebook cell)*"
   ]
  },
  {
   "cell_type": "markdown",
   "metadata": {
    "button": false,
    "new_sheet": false,
    "run_control": {
     "read_only": false
    }
   },
   "source": [
    "**1.1.** &nbsp;&nbsp;Let &nbsp;&nbsp; $ A =  \\left( \\begin{array}{ccc}\n",
    "3 & 4 & 2 \\\\\n",
    "5 & 6 & 4 \\\\\n",
    "4 & 3 & 4 \\end{array} \\right) \\,\\,$ and  $ \\,\\, B = \\left( \\begin{array}{ccc}\n",
    "1 & 4 & 2 \\\\\n",
    "1 & 9 & 3 \\\\\n",
    "2 & 3 & 3 \\end{array} \\right)\n",
    "$.  \n",
    "\n",
    "Compute &nbsp;$A \\cdot B$.\n",
    "\n",
    "**1.2.** &nbsp;&nbsp;Let &nbsp;&nbsp;\n",
    "$ A =  \\left( \\begin{array}{ccc}\n",
    "0 & 12 & 8 \\\\\n",
    "1 & 15 & 0 \\\\\n",
    "0 & 6 & 3 \\end{array} \\right)$.  \n",
    "\n",
    "Compute &nbsp; $A^{-1}$.  "
   ]
  },
  {
   "cell_type": "markdown",
   "metadata": {},
   "source": [
    "**Answers**<br><br>\n",
    "**1.1**\n",
    "&nbsp;&nbsp; $ A \\cdot B =  \\left( \\begin{array}{ccc}\n",
    "3+4+4 & 12+36+6 & 6+12+6 \\\\\n",
    "5+6+8 & 20+54+12 & 10+18+12 \\\\\n",
    "4+3+8 & 16+27+12 & 8+9+12 \\end{array} \\right) \\,\\,\n",
    "=\n",
    "\\left( \\begin{array}{ccc}\n",
    "11 & 54 & 24 \\\\\n",
    "19 & 86 & 40 \\\\\n",
    "15 & 55 & 29 \\end{array} \\right) \\,\\,$\n",
    "<br><br><br>\n",
    "**1.2**<br>\n",
    "&nbsp;&nbsp; $ \\left( \\begin{array}{ccc|ccc}\n",
    "0 & 12 & 8 &\\ 1 & 0 & 0 \\\\\n",
    "1 & 15 & 0 &\\ 0 & 1 & 0 \\\\\n",
    "0 & 6 & 3 &\\ 0 & 0 & 1 \\end{array} \\right) \\,\\,$\n",
    "&nbsp;&nbsp; $ \\xrightarrow[\\text{& R2}]{\\text{switch R1}} $ &nbsp;&nbsp; $\\left( \\begin{array}{ccc|ccc}\n",
    "1 & 15 & 0  &\\ 0 & 1 & 0 \\\\\n",
    "0 & 12 & 8 &\\ 1 & 0 & 0 \\\\\n",
    "0 & 6 & 3 &\\ 0 & 0 & 1 \\end{array} \\right) \\,\\,$ &nbsp;&nbsp; \n",
    "$ \\xrightarrow{\\text{R2/12}} $ \n",
    "&nbsp;&nbsp; $\\left( \\begin{array}{ccc|ccc}\n",
    "1 & 15 & 0  &\\ 0 & 1 & 0 \\\\\n",
    "0 & 1 & \\frac{2}{3} &\\ \\frac{1}{12} & 0 & 0 \\\\\n",
    "0 & 6 & 3 &\\ 0 & 0 & 1 \\end{array} \\right) \\,\\,$ &nbsp;&nbsp; \n",
    "$ \\xrightarrow[\\text{R3 - 6*R2}]{\\text{R1 - 15*R2}} $ \n",
    "&nbsp;&nbsp; $\\left( \\begin{array}{ccc|ccc}\n",
    "1 & 0 & -10  &\\ \\frac{-5}{4} & 1 & 0 \\\\\n",
    "0 & 1 & \\frac{2}{3} &\\ \\frac{1}{12} & 0 & 0 \\\\\n",
    "0 & 0 & -1 &\\ \\frac{-1}{2} & 0 & 1 \\end{array} \\right) \\,\\,$ \n",
    "$ \\xrightarrow{\\text{R3/-1}} $ \n",
    "&nbsp;&nbsp; $\\left( \\begin{array}{ccc|ccc}\n",
    "1 & 0 & -10  &\\ \\frac{-5}{4} & 1 & 0 \\\\\n",
    "0 & 1 & \\frac{2}{3} &\\ \\frac{1}{12} & 0 & 0 \\\\\n",
    "0 & 0 & 1 &\\ \\frac{1}{2} & 0 & -1 \\end{array} \\right) \\,\\,$ \n",
    "$ \\xrightarrow[\\text{R2 - $\\frac{2}{3}$*R2}]{\\text{R1 + 10*R3}}$ \n",
    "&nbsp;&nbsp; $\\left( \\begin{array}{ccc|ccc}\n",
    "1 & 0 & 0  &\\ \\frac{15}{4} & 1 & -10 \\\\\n",
    "0 & 1 & 0 &\\ \\frac{-1}{4} & 0 & \\frac{2}{3} \\\\\n",
    "0 & 0 & 1 &\\ \\frac{1}{2} & 0 & -1 \\end{array} \\right) \\,\\,$ \n",
    "<br><br>\n",
    "$A^{-1}$ = &nbsp;&nbsp; $\\left( \\begin{array}{ccc}\n",
    "\\frac{15}{4} & 1 & -10 \\\\\n",
    "\\frac{-1}{4} & 0 & \\frac{2}{3} \\\\\n",
    "\\frac{1}{2} & 0 & -1 \\end{array} \\right) \\,\\,$ \n",
    "\n"
   ]
  },
  {
   "cell_type": "markdown",
   "metadata": {
    "button": false,
    "new_sheet": false,
    "run_control": {
     "read_only": false
    }
   },
   "source": [
    "**Calculus and Probability**\n",
    "\n",
    "*Complete the following (show your work as a markdown/latex notebook cell)*\n",
    "\n",
    "**1.3**. From Wikipedia:\n",
    "\n",
    "  > In mathematical optimization, statistics, econometrics, decision theory, machine learning and computational neuroscience, a loss function or cost function is a function that maps an event or values of one or more variables onto a real number intuitively representing some \"cost\" associated with the event. An optimization problem seeks to minimize a loss function.\n",
    "  \n",
    "   We've generated a cost function on parameters $x,y \\in \\mathcal{R}$  $L(x,y)= 3x^2y - y^3 - 3x^2 - 3y^2 + 2$.  Find the critical points (optima) of $L(x,y)$.\n",
    "\n",
    "**1.4**. Two central aspects of call center operations are the busy-ness of the customer service reps and the caller demographics.  Because of historical data, the distribution of these measures can often take on well-known distributions.  In the CS109 Homework Helpdesk, $X$ and $Y$ are discrete random variables with $Y$ measuring the total number of help lines that are busy with callers (there are three lines available), and $X$ measuring the number of help lines that are busy with female callers.  We've determined historically the joint pmf of $(X, Y)$ and found it to be: \n",
    "\n",
    "$$p_{X,Y}(x,y) = {y \\choose x}\\left(\\frac{1}{3}\\right)^x\\left(\\frac{2}{3}\\right)^{y-x}\\frac{(1+y)}{10}$$ \n",
    "\n",
    "where $y \\in {0,1,2,3}, x \\in [0, y]$ (That is to say the total number of callers in a minute is a non-negative integer and the number of female callers naturally assumes a value between 0 and the total number of callers inclusive).  Note: by definition, ${0 \\choose 0} = 1$.  \n",
    "\n",
    "(i) What is the conditional distribution of $X|Y$ (it is a well-known family)?\n",
    "\n",
    "(ii) Find the mean and variance of the marginal distribution of $X$. \n"
   ]
  },
  {
   "cell_type": "markdown",
   "metadata": {},
   "source": [
    "**Answers**\n",
    "<br><br><br>\n",
    "**1.3**<br><br>\n",
    "$\\frac{dL}{dx} = 6xy - 6x = 0 \\,\\,\\,\\,\\,\\,\\,\\,\\,\\,\\,\\,\\,\\,\\,\\,\\,\\,\\,\\,$ $\\frac{dL}{dy} = 3x^2 - 3y^2 - 6y = 0$<br>\n",
    "$6x(y-1) = 0$<br>\n",
    "$x=0$ or $y=1$<br><br>\n",
    "$\\frac{dL}{dy}(x=0) = -3y^2 - 6y = -3y(y+2) = 0 \\,\\,\\Longrightarrow \\,\\,y = 0$ or $-2,\\,\\, x=0$<br><br>\n",
    "$\\frac{dL}{dy}(y=1) = 3x^2 - 3 - 6 = 3x^2 - 9 = 0\\,\\,\\Longrightarrow \\,\\,x = \\pm \\sqrt{3},\\,\\, y=1$<br><br>\n",
    "Critical points are: $(0, 0),\\,(0, -2),\\,(\\sqrt{3}, 1),\\,(-\\sqrt{3}, 1)$\n",
    "<br><br><br>"
   ]
  },
  {
   "cell_type": "code",
   "execution_count": null,
   "metadata": {},
   "outputs": [],
   "source": [
    "from ipy_table import *\n",
    "print('**1.4**')\n",
    "print('Table of Probabilities')\n",
    "joint_pmf = [\n",
    "    [' ', 'y=1', 'y=2', 'y=3', 'y=4', 'p(X)'],\n",
    "    ['x0', 1/10, 2/15, 2/15, 16/135, 131/270],\n",
    "    ['x1', 0, 1/15, 2/15, 8/45, 17/45],\n",
    "    ['x2', 0, 0, 1/30, 4/45, 11/90],\n",
    "    ['x3', 0, 0, 0, 2/135, 2/135]];\n",
    "make_table(joint_pmf)\n",
    "apply_theme('basic_both')"
   ]
  },
  {
   "cell_type": "code",
   "execution_count": null,
   "metadata": {},
   "outputs": [],
   "source": [
    "from ipy_table import *\n",
    "print('Conditional Distribution of X|Y')\n",
    "print('top axis: y-values; left axis: x-values')\n",
    "x_y = [\n",
    "    [' ', '0', '1', '2', '3'],\n",
    "    ['0', 1, 2/3, 4/9, 8/27],\n",
    "    ['1', 0, 1/3, 4/9, 4/9],\n",
    "    ['2', 0, 0, 1/9, 2/9],\n",
    "    ['3', 0, 0, 0, 1/27]];\n",
    "make_table(x_y)\n",
    "apply_theme('basic_both')"
   ]
  },
  {
   "cell_type": "markdown",
   "metadata": {},
   "source": [
    "The conditional distribution of X|Y is a binomial distribution, with p = 1/3.<br>\n",
    "*Note* - wasn't able to get Markdown or Latex tables to work for this problem, so used a different format which didn't provide as extensive options."
   ]
  },
  {
   "cell_type": "code",
   "execution_count": null,
   "metadata": {},
   "outputs": [],
   "source": [
    "print('expectation of marginal distribution of X:')\n",
    "exp_X = 0*131/270 + 1*17/45 + 2*11/90 + 3*2/135\n",
    "print(round(exp_X, 2))\n",
    "print('variance of marginal distribution of X:')\n",
    "exp_X2 = 0*131/270 + 1*17/45 + (2**2)*11/90 + (3**2)*2/135\n",
    "var_X = exp_X2 - (exp_X)**2\n",
    "print(round(var_X,2))"
   ]
  },
  {
   "cell_type": "code",
   "execution_count": 3,
   "metadata": {
    "button": false,
    "new_sheet": false,
    "run_control": {
     "read_only": false
    }
   },
   "outputs": [],
   "source": [
    "# The line %... is a jupyter \"magic\" command, and is not part of the Python language.\n",
    "# In this case we're just telling the plotting library to draw things on\n",
    "# the notebook, instead of on a separate window.\n",
    "%matplotlib inline\n",
    "# See the \"import ... as ...\" contructs below? They're just aliasing the package names.\n",
    "# That way we can call methods like plt.plot() instead of matplotlib.pyplot.plot().\n",
    "import numpy as np\n",
    "import scipy as sp\n",
    "import scipy.stats as stats\n",
    "import matplotlib.pyplot as plt"
   ]
  },
  {
   "cell_type": "markdown",
   "metadata": {
    "button": false,
    "new_sheet": false,
    "run_control": {
     "read_only": false
    }
   },
   "source": [
    "**Basic Statistics**\n",
    "\n",
    "*Complete the following: you can perform the calculations by hand (show your work) or using software (include the code and output, screenshots are fine if it is from another platform).*\n",
    "\n",
    "**1.5**. 37 of the 76 female CS concentrators have taken Data Science 1 (DS1) while 50 of the 133 male concentrators haven taken DS1.  Perform a statistical test to determine if interest in Data Science (by taking DS1) is related to sex.  Be sure to state your conclusion."
   ]
  },
  {
   "cell_type": "markdown",
   "metadata": {},
   "source": [
    "**Answer**: With a p-value > 0.05 (0.078), there is not a significant difference between the sexes wrt interest in data science.\n",
    "\n",
    "<img src=\"rcode_permtest.png\"><br>\n",
    "<img src=\"pvalue.png\">\n",
    "<br><br>\n",
    "**r code**<br>\n",
    "<pre><code>\n",
    "library(dplyr)<br>\n",
    "\n",
    "fem_ds <- c(rep(1, 37), rep(0, 76-37))\n",
    "fem_sex <- c(rep('Female', 76))\n",
    "male_ds <- c(rep(1, 50), rep(0, 133-50))\n",
    "male_sex <- c(rep('Male', 133))\n",
    "fem_tab <- data.frame(fem_ds, fem_sex)\n",
    "fem_tab <- rename(fem_tab, sex = fem_sex)\n",
    "fem_tab <- rename(fem_tab, DS1 = fem_ds)\n",
    "male_tab <- data.frame(male_ds, male_sex)\n",
    "male_tab <- rename(male_tab, sex = male_sex)\n",
    "male_tab <- rename(male_tab, DS1 = male_ds)\n",
    "full_ds <- bind_rows(fem_tab, male_tab)\n",
    "id_m <- which(full_ds$sex == 'Male')\n",
    "ds_m <- mean(male_ds)\n",
    "id_f <- which(full_ds$sex == 'Female')\n",
    "ds_f <- mean(fem_ds)\n",
    "obs <- ds_f - ds_m; obs\n",
    "ds_col <- full_ds$DS1\n",
    "N <- 10^5 - 1\n",
    "diffs <- numeric(N)\n",
    "for (i in 1:N) {\n",
    "  index <- sample(209, size = 76, replace = FALSE)\n",
    "  diffs[i] <- mean(ds_col[index]) - mean(ds_col[-index])\n",
    "}\n",
    "pvalue <- (sum(diffs >= obs)+1)/(N+1); pvalue"
   ]
  },
  {
   "cell_type": "markdown",
   "metadata": {
    "button": false,
    "new_sheet": false,
    "run_control": {
     "read_only": false
    }
   },
   "source": [
    "------"
   ]
  },
  {
   "cell_type": "markdown",
   "metadata": {
    "button": false,
    "new_sheet": false,
    "run_control": {
     "read_only": false
    }
   },
   "source": [
    "## Simulation of a Coin Throw\n",
    "\n",
    "We'd like to do some experiments with coin flips, but we don't have a physical coin at the moment. So let's **simulate** the process of flipping a coin on a computer. To do this we will use a form of the **random number generator** built into `numpy`. In particular, we will use the function `np.random.choice` which picks items with uniform probability from a list. If we provide it a list ['H', 'T'], it will pick one of the two items in the list. We can also ask it to do this multiple times by specifying the parameter `size`. "
   ]
  },
  {
   "cell_type": "code",
   "execution_count": 4,
   "metadata": {
    "button": false,
    "new_sheet": false,
    "run_control": {
     "read_only": false
    }
   },
   "outputs": [],
   "source": [
    "def throw_a_coin(n_trials):\n",
    "    return np.random.choice(['H','T'], size=n_trials)"
   ]
  },
  {
   "cell_type": "markdown",
   "metadata": {
    "button": false,
    "new_sheet": false,
    "run_control": {
     "read_only": false
    }
   },
   "source": [
    "`np.sum` is a function that returns the sum of items in an iterable (i.e. a list or an array).  Because python coerces `True` to 1 and `False` to 0, the effect of calling `np.sum` on the array of `True`s and `False`s will be to return the number of of `True`s in the array (which can then effectively count the number of heads)."
   ]
  },
  {
   "cell_type": "markdown",
   "metadata": {
    "button": false,
    "new_sheet": false,
    "run_control": {
     "read_only": false
    }
   },
   "source": [
    "### <p class=\"q1\" > Question 2: The 12 Labors of Bernoullis </p>\n",
    "\n",
    "Now that we know how to run our coin flip experiment, we're interested in knowing what happens as we choose larger and larger number of coin flips.\n",
    "\n",
    "\n",
    "**2.1**.  Run one experiment of flipping a coin 40 times storing the resulting sample in the variable `throws1`.   What's the total proportion of heads?\n",
    "\n",
    "**2.2**.  **Replicate** the experiment in 2.1 storing the resulting sample  in the variable `throws2`.   What's the proportion of heads?  How does this result compare to that you obtained in question 2.1?\n",
    "\n",
    "**2.3**.  Write a function  called `run_trials` that takes as input a list, called `n_flips`, of integers representing different values for the number of coin flips in a trial.  For each element in the input list, `run_trials` should run the coin flip experiment with that number of flips and calculate the proportion of heads.  The output of `run_trials` should be the list of calculated proportions.  Store the output of calling `run_trials` in a list called `proportions`.\n",
    "\n",
    "**2.4**.  Using the results in 2.3, reproduce the plot below. \n",
    "<!--of the proportion of observed heads to total coins flipped in the trial when `run_trials` is run for each of the sample sizes in `trials` -->  <img src=\"./HW0Plot1.png\"/>\n",
    "\n",
    "**2.5**.  What's the appropriate observation about the result of running the coin flip experiment with larger and larger numbers of coin flips?  Choose the appropriate one from the choices below. \n",
    "\n",
    "> A. Regardless of sample size the probability of in our experiment of observing heads is 0.5 so the proportion of heads observed in the coin-flip experiments will always be 0.5.  \n",
    ">\n",
    "> B. The proportions **fluctuate** about their long-run value of 0.5 (what you might expect if you tossed the coin an infinite amount of times), in accordance with the notion of a fair coin (which we encoded in our simulation by having `np.random.choice` choose between two possibilities with equal probability), with the fluctuations seeming to become much smaller as the number of trials increases.\n",
    ">\n",
    "> C. The proportions **fluctuate** about their long-run value of 0.5 (what you might expect if you tossed the coin an infinite amount of times), in accordance with the notion of a fair coin (which we encoded in our simulation by having `np.random.choice` choose between two possibilities with equal probability), with the fluctuations constant regardless of the number of trials.\n"
   ]
  },
  {
   "cell_type": "markdown",
   "metadata": {
    "button": false,
    "new_sheet": false,
    "run_control": {
     "read_only": false
    }
   },
   "source": [
    "#### Answers"
   ]
  },
  {
   "cell_type": "markdown",
   "metadata": {
    "button": false,
    "new_sheet": false,
    "run_control": {
     "read_only": false
    }
   },
   "source": [
    "**2.1**"
   ]
  },
  {
   "cell_type": "code",
   "execution_count": 5,
   "metadata": {
    "button": false,
    "new_sheet": false,
    "run_control": {
     "read_only": false
    }
   },
   "outputs": [
    {
     "name": "stdout",
     "output_type": "stream",
     "text": [
      "['T' 'H' 'T' 'T' 'T' 'T' 'T' 'H' 'T' 'T' 'H' 'H' 'T' 'H' 'T' 'T' 'T' 'H'\n",
      " 'T' 'T' 'T' 'T' 'H' 'H' 'H' 'H' 'T' 'T' 'H' 'H' 'H' 'T' 'T' 'H' 'T' 'T'\n",
      " 'H' 'H' 'T' 'H']\n",
      "0.425\n"
     ]
    }
   ],
   "source": [
    "throws1 = throw_a_coin(40)\n",
    "print(throws1)\n",
    "print(np.sum(throws1 == \"H\")/40)"
   ]
  },
  {
   "cell_type": "markdown",
   "metadata": {
    "button": false,
    "new_sheet": false,
    "run_control": {
     "read_only": false
    }
   },
   "source": [
    "**2.2** "
   ]
  },
  {
   "cell_type": "code",
   "execution_count": 6,
   "metadata": {
    "button": false,
    "new_sheet": false,
    "run_control": {
     "read_only": false
    }
   },
   "outputs": [
    {
     "name": "stdout",
     "output_type": "stream",
     "text": [
      "['T' 'H' 'T' 'H' 'H' 'T' 'H' 'T' 'H' 'T' 'T' 'T' 'H' 'T' 'T' 'H' 'H' 'H'\n",
      " 'H' 'T' 'H' 'H' 'H' 'T' 'T' 'T' 'H' 'T' 'H' 'T' 'H' 'T' 'T' 'H' 'T' 'T'\n",
      " 'H' 'H' 'T' 'H']\n",
      "0.5\n"
     ]
    }
   ],
   "source": [
    "throws2 = throw_a_coin(40)\n",
    "print(throws2)\n",
    "print(np.sum(throws2 == \"H\")/40)"
   ]
  },
  {
   "cell_type": "markdown",
   "metadata": {
    "button": false,
    "new_sheet": false,
    "run_control": {
     "read_only": false
    }
   },
   "source": [
    "**2.3** "
   ]
  },
  {
   "cell_type": "code",
   "execution_count": 7,
   "metadata": {
    "button": false,
    "new_sheet": false,
    "run_control": {
     "read_only": false
    }
   },
   "outputs": [],
   "source": [
    "flips_list = [10, 30, 50, 70, 100, 130, 170, 200, 500, 1000, 2000, 5000, 10000]"
   ]
  },
  {
   "cell_type": "code",
   "execution_count": 8,
   "metadata": {
    "button": false,
    "new_sheet": false,
    "run_control": {
     "read_only": false
    }
   },
   "outputs": [],
   "source": [
    "def run_trials(n_flips):\n",
    "    result = list()\n",
    "    for i in range(0, len(n_flips)):\n",
    "        throw = throw_a_coin(n_flips[i])\n",
    "        heads = (np.sum(throw == \"H\")) / n_flips[i]\n",
    "        result.append(heads)\n",
    "    return result"
   ]
  },
  {
   "cell_type": "code",
   "execution_count": 9,
   "metadata": {
    "button": false,
    "new_sheet": false,
    "run_control": {
     "read_only": false
    }
   },
   "outputs": [
    {
     "name": "stdout",
     "output_type": "stream",
     "text": [
      "[0.7, 0.6, 0.64, 0.5, 0.52, 0.5076923076923077, 0.49411764705882355, 0.455, 0.546, 0.522, 0.475, 0.512, 0.4977]\n"
     ]
    }
   ],
   "source": [
    "proportions = run_trials(flips_list)\n",
    "print(proportions)"
   ]
  },
  {
   "cell_type": "markdown",
   "metadata": {
    "button": false,
    "new_sheet": false,
    "run_control": {
     "read_only": false
    }
   },
   "source": [
    "**2.4** "
   ]
  },
  {
   "cell_type": "code",
   "execution_count": 10,
   "metadata": {
    "button": false,
    "new_sheet": false,
    "run_control": {
     "read_only": false
    }
   },
   "outputs": [
    {
     "data": {
      "image/png": "[encoded data removed]",
      "text/plain": [
       "<Figure size 432x288 with 1 Axes>"
      ]
     },
     "metadata": {},
     "output_type": "display_data"
    }
   ],
   "source": [
    "plt.scatter(flips_list, proportions)\n",
    "plt.plot(flips_list, proportions)\n",
    "plt.axhline(y=0.5, color='r', linestyle='-')\n",
    "plt.xlabel('number of flips'); plt.ylabel('proportion of heads from simulation')\n",
    "plt.title('Proportion of Heads from Simulation vs Total Number of Flips');"
   ]
  },
  {
   "cell_type": "markdown",
   "metadata": {
    "button": false,
    "new_sheet": false,
    "run_control": {
     "read_only": false
    }
   },
   "source": [
    "**2.5** "
   ]
  },
  {
   "cell_type": "markdown",
   "metadata": {
    "button": false,
    "new_sheet": false,
    "run_control": {
     "read_only": false
    }
   },
   "source": [
    "**What's the appropriate observation about the result of applying the coin flip experiment to larger and larger numbers of coin flips?  Choose the appropriate one.**\n",
    "\n",
    "Because of the Central Limit Theorem, option B is correct. As the n increases, the proportion of heads gets closer to 50%. Fluctuations are getting much smaller.<br>\n",
    "\"The proportions fluctuate about their long-run value of 0.5 (what you might expect if you tossed the coin an infinite amount of times), in accordance with the notion of a fair coin (which we encoded in our simulation by having np.random.choice choose between two possibilities with equal probability), with the fluctuations seeming to become much smaller as the number of trials increases.\"\n",
    "\n"
   ]
  },
  {
   "cell_type": "markdown",
   "metadata": {
    "button": false,
    "new_sheet": false,
    "run_control": {
     "read_only": false
    }
   },
   "source": [
    "## Multiple Replications of the Coin Flip Experiment\n",
    "\n",
    "The coin flip experiment that we did above gave us some insight, but we don't have a good notion of how robust our results are under repetition as we've only run one experiment for each number of coin flips. Lets redo the coin flip experiment, but let's incorporate multiple repetitions of each number of coin flips. For each choice of the number of flips,  $n$, in an experiment, we'll do $M$ replications of the coin tossing experiment."
   ]
  },
  {
   "cell_type": "markdown",
   "metadata": {
    "button": false,
    "new_sheet": false,
    "run_control": {
     "read_only": false
    }
   },
   "source": [
    "#### Answers"
   ]
  },
  {
   "cell_type": "markdown",
   "metadata": {
    "button": false,
    "new_sheet": false,
    "run_control": {
     "read_only": false
    }
   },
   "source": [
    "### <p class='q1'> Question 3. So Many Replications </p>\n",
    "\n",
    "**3.1**.  Write a function `make_throws` which takes as arguments the `n_replications` ($M$) and the `n_flips` ($n$), and returns a list (of size $M$) of proportions, with each proportion calculated by taking the ratio of heads to to total number of coin flips in each replication of $n$ coin tosses.  `n_flips` should be a python parameter whose value should default to 20 if unspecified when `make_throws` is called. \n",
    "\n",
    "**3.2**.  Create the variables `proportions_at_n_flips_100` and `proportions_at_n_flips_1000`.  Store in these variables the result of `make_throws` for `n_flips` equal to 100 and 1000 respectively while keeping `n_replications` at 200.  Create a plot with the histograms of `proportions_at_n_flips_100` and `proportions_at_n_flips_1000`.  Make sure to title your plot, label the x-axis and provide a legend.(See below for an example of what the plot may look like) ![](./HW0Plot2.png) \n",
    "\n",
    "**3.3**. Calculate the mean and variance of the results in the each of the variables `proportions_at_n_flips_100` and `proportions_at_n_flips_1000` generated in 3.2.\n",
    "\n",
    "**3.4**. Based upon the plots what would be your guess of what type of distribution is represented by histograms in 3.2?  Explain the factors that influenced your choice.\n",
    "> A. Gamma Distribution\n",
    ">\n",
    "> B. Beta Distribution\n",
    ">\n",
    "> C. Gaussian\n",
    "\n",
    "**3.5**. Let's just assume for arguments sake that the answer to 3.4 is **C. Gaussian**.  Plot a **normed histogram** of your results `proportions_at_n_flips_1000` overlayed with your selection for the appropriate gaussian distribution to represent the experiment of flipping a coin 1000 times.   (**Hint:  What parameters should you use for your Gaussian?**)\n"
   ]
  },
  {
   "cell_type": "markdown",
   "metadata": {
    "button": false,
    "new_sheet": false,
    "run_control": {
     "read_only": false
    }
   },
   "source": [
    "**3.1**"
   ]
  },
  {
   "cell_type": "code",
   "execution_count": 11,
   "metadata": {
    "button": false,
    "new_sheet": false,
    "run_control": {
     "read_only": false
    }
   },
   "outputs": [],
   "source": [
    "def make_throws(n_replications, n_flips=20):\n",
    "    flips = np.repeat(n_flips, n_replications)\n",
    "    return run_trials(flips)"
   ]
  },
  {
   "cell_type": "markdown",
   "metadata": {
    "button": false,
    "new_sheet": false,
    "run_control": {
     "read_only": false
    }
   },
   "source": [
    "**3.2**"
   ]
  },
  {
   "cell_type": "code",
   "execution_count": 12,
   "metadata": {
    "button": false,
    "new_sheet": false,
    "run_control": {
     "read_only": false
    }
   },
   "outputs": [
    {
     "name": "stdout",
     "output_type": "stream",
     "text": [
      "[0.52, 0.51, 0.42, 0.57, 0.49, 0.41, 0.44, 0.53, 0.43, 0.45, 0.5, 0.57, 0.5, 0.43, 0.54, 0.5, 0.44, 0.48, 0.45, 0.59, 0.59, 0.5, 0.55, 0.48, 0.57, 0.45, 0.48, 0.43, 0.53, 0.4, 0.52, 0.47, 0.51, 0.53, 0.53, 0.55, 0.51, 0.55, 0.49, 0.51, 0.51, 0.48, 0.56, 0.48, 0.54, 0.36, 0.44, 0.51, 0.5, 0.48, 0.52, 0.45, 0.52, 0.49, 0.46, 0.44, 0.56, 0.41, 0.46, 0.51, 0.51, 0.47, 0.45, 0.48, 0.4, 0.54, 0.44, 0.47, 0.45, 0.49, 0.47, 0.46, 0.51, 0.53, 0.56, 0.46, 0.48, 0.52, 0.58, 0.49, 0.51, 0.46, 0.48, 0.47, 0.49, 0.51, 0.54, 0.48, 0.53, 0.47, 0.48, 0.52, 0.52, 0.47, 0.5, 0.47, 0.5, 0.47, 0.45, 0.49, 0.5, 0.55, 0.48, 0.56, 0.49, 0.57, 0.49, 0.47, 0.49, 0.48, 0.5, 0.52, 0.47, 0.45, 0.46, 0.55, 0.54, 0.47, 0.42, 0.56, 0.55, 0.44, 0.48, 0.46, 0.53, 0.56, 0.5, 0.54, 0.52, 0.46, 0.45, 0.47, 0.45, 0.46, 0.37, 0.54, 0.48, 0.55, 0.38, 0.58, 0.44, 0.47, 0.47, 0.54, 0.55, 0.57, 0.52, 0.53, 0.52, 0.5, 0.56, 0.44, 0.44, 0.48, 0.56, 0.5, 0.53, 0.58, 0.49, 0.57, 0.44, 0.51, 0.56, 0.44, 0.49, 0.48, 0.51, 0.41, 0.41, 0.48, 0.53, 0.46, 0.6, 0.53, 0.54, 0.45, 0.54, 0.41, 0.44, 0.53, 0.42, 0.45, 0.46, 0.49, 0.54, 0.41, 0.47, 0.51, 0.47, 0.49, 0.51, 0.53, 0.58, 0.51, 0.5, 0.55, 0.45, 0.49, 0.47, 0.5]\n",
      "200\n",
      "[0.475, 0.5, 0.496, 0.482, 0.481, 0.508, 0.513, 0.491, 0.488, 0.515, 0.486, 0.512, 0.508, 0.496, 0.478, 0.465, 0.481, 0.5, 0.528, 0.482, 0.522, 0.489, 0.504, 0.481, 0.492, 0.509, 0.498, 0.497, 0.493, 0.511, 0.512, 0.48, 0.486, 0.502, 0.51, 0.493, 0.505, 0.505, 0.512, 0.488, 0.471, 0.475, 0.508, 0.517, 0.496, 0.505, 0.494, 0.506, 0.522, 0.506, 0.493, 0.486, 0.518, 0.497, 0.456, 0.481, 0.528, 0.47, 0.479, 0.5, 0.508, 0.521, 0.507, 0.506, 0.507, 0.494, 0.505, 0.504, 0.525, 0.5, 0.492, 0.501, 0.505, 0.512, 0.494, 0.523, 0.493, 0.539, 0.469, 0.495, 0.507, 0.523, 0.472, 0.491, 0.5, 0.485, 0.471, 0.538, 0.514, 0.476, 0.499, 0.522, 0.481, 0.51, 0.49, 0.489, 0.505, 0.507, 0.534, 0.46, 0.522, 0.515, 0.503, 0.516, 0.488, 0.528, 0.526, 0.501, 0.476, 0.476, 0.52, 0.492, 0.49, 0.497, 0.5, 0.502, 0.497, 0.506, 0.502, 0.492, 0.505, 0.487, 0.486, 0.513, 0.495, 0.544, 0.496, 0.497, 0.541, 0.485, 0.51, 0.492, 0.487, 0.5, 0.489, 0.525, 0.508, 0.475, 0.476, 0.49, 0.523, 0.5, 0.486, 0.464, 0.509, 0.524, 0.5, 0.503, 0.5, 0.484, 0.507, 0.502, 0.502, 0.512, 0.496, 0.472, 0.49, 0.498, 0.509, 0.49, 0.511, 0.517, 0.52, 0.491, 0.498, 0.469, 0.499, 0.498, 0.502, 0.499, 0.5, 0.497, 0.496, 0.499, 0.492, 0.501, 0.513, 0.485, 0.504, 0.465, 0.518, 0.484, 0.489, 0.506, 0.503, 0.51, 0.454, 0.494, 0.488, 0.505, 0.511, 0.492, 0.493, 0.498, 0.495, 0.525, 0.491, 0.5, 0.516, 0.496]\n",
      "200\n"
     ]
    }
   ],
   "source": [
    "proportions_at_n_flips_100 = make_throws(200, 100)\n",
    "proportions_at_n_flips_1000 = make_throws(200, 1000)\n",
    "print(proportions_at_n_flips_100)\n",
    "print(len(proportions_at_n_flips_100))\n",
    "print(proportions_at_n_flips_1000)\n",
    "print(len(proportions_at_n_flips_1000))"
   ]
  },
  {
   "cell_type": "code",
   "execution_count": 13,
   "metadata": {
    "button": false,
    "new_sheet": false,
    "run_control": {
     "read_only": false
    }
   },
   "outputs": [
    {
     "data": {
      "image/png": "[encoded data removed]",
      "text/plain": [
       "<Figure size 432x288 with 1 Axes>"
      ]
     },
     "metadata": {},
     "output_type": "display_data"
    }
   ],
   "source": [
    "plt.hist(proportions_at_n_flips_100, alpha=0.8, label='100 flips')\n",
    "plt.hist(proportions_at_n_flips_1000, alpha=0.65, label='1000 flips')\n",
    "plt.legend()\n",
    "plt.xlabel('proportion of heads')\n",
    "plt.title('Histogram of Samples at Different Number of Coin Flips')\n",
    "plt.show()"
   ]
  },
  {
   "cell_type": "markdown",
   "metadata": {
    "button": false,
    "new_sheet": false,
    "run_control": {
     "read_only": false
    }
   },
   "source": [
    "**3.3**"
   ]
  },
  {
   "cell_type": "code",
   "execution_count": 14,
   "metadata": {
    "button": false,
    "new_sheet": false,
    "run_control": {
     "read_only": false
    }
   },
   "outputs": [
    {
     "name": "stdout",
     "output_type": "stream",
     "text": [
      "mean and variance for 100 flips:\n",
      "0.4939\n",
      "0.0021777900000000006\n",
      "mean and variance for 1000 flips:\n",
      "0.4990049999999999\n",
      "0.00026182497500000035\n"
     ]
    }
   ],
   "source": [
    "print('mean and variance for 100 flips:')\n",
    "print(np.mean(proportions_at_n_flips_100))\n",
    "print(np.var(proportions_at_n_flips_100))\n",
    "print('mean and variance for 1000 flips:')\n",
    "mean_1000 = np.mean(proportions_at_n_flips_1000)\n",
    "var_1000 = np.var(proportions_at_n_flips_1000)\n",
    "print(mean_1000)\n",
    "print(var_1000)"
   ]
  },
  {
   "cell_type": "markdown",
   "metadata": {
    "button": false,
    "new_sheet": false,
    "run_control": {
     "read_only": false
    }
   },
   "source": [
    "**3.4**"
   ]
  },
  {
   "cell_type": "markdown",
   "metadata": {
    "button": false,
    "new_sheet": false,
    "run_control": {
     "read_only": false
    }
   },
   "source": [
    "**Gaussian distribution**<br>\n",
    "As the *n* of our sample increases, the proportion of heads tends towards a Gaussian distribution. Follows Central Limit Theorem. "
   ]
  },
  {
   "cell_type": "markdown",
   "metadata": {
    "button": false,
    "new_sheet": false,
    "run_control": {
     "read_only": false
    }
   },
   "source": [
    "**3.5**"
   ]
  },
  {
   "cell_type": "code",
   "execution_count": 15,
   "metadata": {
    "button": false,
    "new_sheet": false,
    "run_control": {
     "read_only": false
    }
   },
   "outputs": [
    {
     "data": {
      "image/png": "[encoded data removed]",
      "text/plain": [
       "<Figure size 432x288 with 1 Axes>"
      ]
     },
     "metadata": {},
     "output_type": "display_data"
    }
   ],
   "source": [
    "x = sorted(proportions_at_n_flips_1000)\n",
    "fit = stats.norm.pdf(x, mean_1000, np.sqrt(var_1000))\n",
    "plt.plot(x, fit, color = 'k')\n",
    "plt.hist(x, density=True, bins=20, color='c', edgecolor=\"grey\")\n",
    "plt.xlabel('proportion of heads')\n",
    "plt.title('Normalized histogram of 1000 coin flips')\n",
    "plt.show()"
   ]
  },
  {
   "cell_type": "markdown",
   "metadata": {
    "button": false,
    "new_sheet": false,
    "run_control": {
     "read_only": false
    }
   },
   "source": [
    "## Working With Distributions in Numpy/Scipy\n",
    "\n",
    "Earlier in this problem set we've been introduced to the Bernoulli \"aka coin-flip\" distribution and worked with it indirectly by using np.random.choice to make a random selection between two elements 'H' and 'T'.  Let's see if we can create comparable results by taking advantage of the machinery for working with other probability distributions in python using numpy and scipy."
   ]
  },
  {
   "cell_type": "markdown",
   "metadata": {
    "button": false,
    "new_sheet": false,
    "run_control": {
     "read_only": false
    }
   },
   "source": [
    "### <p class='q1'> Question 4: My Normal Binomial </p>\n",
    "\n",
    "Let's use our coin-flipping machinery to do some experimentation with the binomial distribution.  The binomial distribution, often represented by  $k \\sim Binomial(n, p)$ is often discribed the number of successes in `n` Bernoulli trials with each trial having a probability of success `p`.  In other words,  if you flip a coin `n` times, and each coin-flip has a probability `p` of landing heads, then the number of heads you observe is a sample from a binomial distribution.\n",
    "\n",
    "**4.1**. Sample the binomial distribution with $p = 0.5$ using coin flips by writing a function `sample_binomial1` which takes in integer parameters `n` and `size`.  The output of `sample_binomial1` should be a list of length `size` observations with each observation being the outcome of flipping a coin `n` times and counting the number of heads.  By default `size` should be 1.  Your code should take advantage of the `throw_a_coin` function we defined above. \n",
    "\n",
    "**4.2**. Sample the binomial distribution directly using scipy.stats.binom.rvs by writing another function `sample_binomial2` that takes in integer parameters `n` and `size` as well as a float `p` parameter `p` where $p \\in [0 \\ldots 1]$.  The output of `sample_binomial2` should be a list of length `size` observations with each observation a sample of $Binomial(n, p)$ (taking advantage of scipy.stats.binom).  By default `size` should be 1 and `p` should be 0.5.\n",
    "\n",
    "**4.3**. Run sample_binomial1 with 25 and 200 as values of the `n` and `size` parameters respectively and store the result in `binomial_trials1`. Run sample_binomial2 with 25, 200 and 0.5 as values of the `n`, `size` and `p` parameters respectively and store the results in `binomial_trials2`.  Plot normed histograms of `binomial_trials1` and `binomial_trials2`.  On both histograms, overlay a plot of the pdf of $Binomial(n=25, p=0.5)$\n",
    "\n",
    "**4.4**. How do the plots in 4.3 compare?\n",
    "\n",
    "**4.5**. Find the mean and variance of `binomial_trials1`.  How do they compare to the true mean and varaince of a $Binomial(n=25, p=0.5)$ distribution?"
   ]
  },
  {
   "cell_type": "markdown",
   "metadata": {
    "button": false,
    "new_sheet": false,
    "run_control": {
     "read_only": false
    }
   },
   "source": [
    "#### Answers"
   ]
  },
  {
   "cell_type": "markdown",
   "metadata": {
    "button": false,
    "new_sheet": false,
    "run_control": {
     "read_only": false
    }
   },
   "source": [
    "**4.1**"
   ]
  },
  {
   "cell_type": "code",
   "execution_count": 16,
   "metadata": {
    "button": false,
    "new_sheet": false,
    "run_control": {
     "read_only": false
    }
   },
   "outputs": [],
   "source": [
    "def sample_binomial1(n, size=1):\n",
    "    flips = np.repeat(n, size)\n",
    "    result = list()\n",
    "    for i in range(0, len(flips)):\n",
    "        throw = throw_a_coin(flips[i])\n",
    "        heads = np.sum(throw == \"H\")\n",
    "        result.append(heads)\n",
    "    return result"
   ]
  },
  {
   "cell_type": "markdown",
   "metadata": {
    "button": false,
    "new_sheet": false,
    "run_control": {
     "read_only": false
    }
   },
   "source": [
    "**4.2**"
   ]
  },
  {
   "cell_type": "code",
   "execution_count": 17,
   "metadata": {
    "button": false,
    "new_sheet": false,
    "run_control": {
     "read_only": false
    }
   },
   "outputs": [],
   "source": [
    "def sample_binomial2(n, size=1, p=0.5):\n",
    "    return stats.binom.rvs(n=n, size=size, p=p)"
   ]
  },
  {
   "cell_type": "markdown",
   "metadata": {
    "button": false,
    "new_sheet": false,
    "run_control": {
     "read_only": false
    }
   },
   "source": [
    "**4.3**"
   ]
  },
  {
   "cell_type": "code",
   "execution_count": 18,
   "metadata": {
    "button": false,
    "new_sheet": false,
    "run_control": {
     "read_only": false
    }
   },
   "outputs": [
    {
     "name": "stdout",
     "output_type": "stream",
     "text": [
      "[15, 15, 6, 13, 13, 8, 14, 10, 12, 14, 10, 10, 13, 15, 12, 11, 14, 13, 11, 16, 14, 17, 13, 14, 13, 10, 12, 10, 12, 11, 12, 13, 11, 11, 12, 8, 15, 12, 15, 16, 16, 12, 11, 17, 11, 11, 10, 14, 16, 10, 12, 8, 10, 14, 12, 15, 11, 13, 16, 16, 11, 15, 13, 10, 15, 12, 14, 12, 13, 10, 14, 16, 12, 10, 11, 12, 13, 13, 12, 8, 11, 9, 18, 12, 10, 9, 9, 10, 16, 15, 12, 10, 14, 15, 10, 12, 16, 9, 15, 12, 17, 14, 13, 13, 13, 16, 14, 14, 13, 15, 15, 15, 12, 15, 11, 14, 14, 14, 11, 13, 11, 15, 12, 12, 13, 14, 11, 12, 13, 13, 12, 13, 13, 10, 15, 13, 11, 11, 12, 11, 12, 12, 14, 14, 15, 14, 15, 14, 15, 11, 14, 14, 12, 15, 11, 14, 8, 10, 12, 10, 14, 12, 16, 16, 12, 15, 12, 9, 15, 14, 11, 16, 13, 14, 15, 12, 13, 13, 9, 13, 10, 8, 16, 17, 6, 15, 15, 14, 13, 10, 15, 11, 16, 12, 13, 11, 11, 11, 15, 10]\n",
      "200\n",
      "[13 10 10 11  9 14 15  8 16 13 13 10 12 13 11 12 16 12 11 11 13 12 12 13\n",
      " 16 13 10 14 14 16 13 14 16 11 10 10 12 11 10 13 13 13 14 11  8 14 11 13\n",
      " 11 13  9 15 14 11 15 12 12 14 10 16 14 10  8  9  7 13 14  9 14 11 13 14\n",
      " 11 13  8 11  9 18  9 13 10 11 17 18 11 14 17 11 10 10 12 11 13  9 12 12\n",
      " 15 12 18 14 12 10 11 14 11 13 12 11 10 15 12 16 10 12 11 15 16 13 14 14\n",
      "  6 14 12  9 12 10  9 10 16 17 17 15 12 12 12 19 16  9 13 13 14 10 13 15\n",
      " 12 16 13 14 12 13 13 10 14 11 16 10 13 12 10 15 13 11  8 16 11 12 13 14\n",
      " 14 13 15 15 11 12  9  8 15 10 11 10 15 10  9 11 14 17 14 13 10 13 14 11\n",
      " 17 15 12 15 11 16 10 11]\n",
      "200\n"
     ]
    },
    {
     "data": {
      "image/png": "[encoded data removed]",
      "text/plain": [
       "<Figure size 432x288 with 1 Axes>"
      ]
     },
     "metadata": {},
     "output_type": "display_data"
    }
   ],
   "source": [
    "binomial_trials1 = sample_binomial1(25, 200)\n",
    "binomial_trials2 = sample_binomial2(25, 200, 0.5)\n",
    "# check that these both worked appropriately:\n",
    "print(binomial_trials1)\n",
    "print(len(binomial_trials1))\n",
    "print(binomial_trials2)\n",
    "print(len(binomial_trials2))\n",
    "# fit = stats.binom.pdf(x, mean_1000, np.sqrt(var_1000))\n",
    "# plt.plot(x, fit, color = 'k')\n",
    "plt.hist(binomial_trials1, density=True, bins=12, color='mediumslateblue', edgecolor=\"grey\", alpha=0.8, label='trials_1')\n",
    "plt.hist(binomial_trials2, density=True, bins=12, color='darksalmon', edgecolor=\"grey\", alpha=0.65, label='trials_2')\n",
    "plt.xlabel('count of heads or successes')\n",
    "plt.title(\"Normalized histogram of different samples of 'coin flips'\")\n",
    "x = np.arange(stats.binom.ppf(0.0001, 25, 0.5), stats.binom.ppf(0.9999, 25, 0.5))\n",
    "plt.plot(x, stats.binom.pmf(x, 25, 0.5), 'o', ms=8, label='binom pmf')\n",
    "plt.legend()\n",
    "plt.show()"
   ]
  },
  {
   "cell_type": "markdown",
   "metadata": {
    "button": false,
    "new_sheet": false,
    "run_control": {
     "read_only": false
    }
   },
   "source": [
    "**4.4**"
   ]
  },
  {
   "cell_type": "markdown",
   "metadata": {
    "button": false,
    "new_sheet": false,
    "run_control": {
     "read_only": false
    }
   },
   "source": [
    "The two histograms are quite similar. The coin-flip scenario can be generated by sampling the binomial distribution.\n",
    "\n"
   ]
  },
  {
   "cell_type": "markdown",
   "metadata": {
    "button": false,
    "new_sheet": false,
    "run_control": {
     "read_only": false
    }
   },
   "source": [
    "**4.5**"
   ]
  },
  {
   "cell_type": "code",
   "execution_count": 19,
   "metadata": {
    "button": false,
    "new_sheet": false,
    "run_control": {
     "read_only": false
    }
   },
   "outputs": [
    {
     "name": "stdout",
     "output_type": "stream",
     "text": [
      "mean and variance of binomial_trials1:\n",
      "12.665 5.062775\n",
      "true mean and variance:\n",
      "12.5 6.25\n"
     ]
    }
   ],
   "source": [
    "print('mean and variance of binomial_trials1:')\n",
    "mean_trials1 = np.mean(binomial_trials1)\n",
    "var_trials1 = np.var(binomial_trials1)\n",
    "print(mean_trials1, var_trials1)\n",
    "print('true mean and variance:')\n",
    "mean, var = stats.binom.stats(25, 0.5, moments='mv')\n",
    "print(mean, var)"
   ]
  },
  {
   "cell_type": "markdown",
   "metadata": {
    "button": false,
    "new_sheet": false,
    "run_control": {
     "read_only": false
    }
   },
   "source": [
    "The mean of trials1 is similar to the true mean. The variance of trials1 is larger than the true variance.\n",
    "\n"
   ]
  },
  {
   "cell_type": "markdown",
   "metadata": {
    "button": false,
    "new_sheet": false,
    "run_control": {
     "read_only": false
    }
   },
   "source": [
    "## Testing Your Python Code"
   ]
  },
  {
   "cell_type": "markdown",
   "metadata": {
    "button": false,
    "new_sheet": false,
    "run_control": {
     "read_only": false
    }
   },
   "source": [
    "In the following section we're going to do a brief introduction to unit testing.  We do so not only because unit testing has become an increasingly important part of of the methodology of good software practices, but also because we plan on using unit tests as part of our own CS109 grading practices as a way of increasing rigor and repeatability decreasing complexity and manual workload in our evaluations of your code.  We'll provide an example unit test at the end of this section.\n",
    "\n",
    "### Introduction to unit testing "
   ]
  },
  {
   "cell_type": "code",
   "execution_count": 20,
   "metadata": {
    "button": false,
    "new_sheet": false,
    "run_control": {
     "read_only": false
    }
   },
   "outputs": [],
   "source": [
    "import ipytest"
   ]
  },
  {
   "cell_type": "markdown",
   "metadata": {
    "button": false,
    "new_sheet": false,
    "run_control": {
     "read_only": false
    }
   },
   "source": [
    "***Unit testing*** is one of the most important software testing methodologies.  Wikipedia describes unit testing as \"a software testing method by which individual units of source code, sets of one or more computer program modules together with associated control data, usage procedures, and operating procedures, are tested to determine whether they are fit for use.\"\n",
    "\n",
    "There are many different python libraries that support software testing in general and unit testing in particular.  PyTest is one of the most widely used and well-liked libraries for this purpose.  We've chosen to adopt PyTest (and ipytest which allows pytest to be used in ipython notebooks) for our testing needs and we'll do a very brief introduction to Pytest here so that you can become familiar with it too. \n",
    "\n",
    "If you recall the function that we provided you above `throw_a_coin`, which we'll reproduce here for convenience, it took a number and returned that many \"coin tosses\".  We'll start by seeing what happens when we give it different sizes of $N$.  If we give $N=0$, we should get an empty array of \"experiments\"."
   ]
  },
  {
   "cell_type": "code",
   "execution_count": 21,
   "metadata": {
    "button": false,
    "new_sheet": false,
    "run_control": {
     "read_only": false
    }
   },
   "outputs": [],
   "source": [
    "def throw_a_coin(N):\n",
    "    return np.random.choice(['H','T'], size=N)"
   ]
  },
  {
   "cell_type": "code",
   "execution_count": 22,
   "metadata": {
    "button": false,
    "new_sheet": false,
    "run_control": {
     "read_only": false
    }
   },
   "outputs": [
    {
     "data": {
      "text/plain": [
       "array([], dtype='<U1')"
      ]
     },
     "execution_count": 22,
     "metadata": {},
     "output_type": "execute_result"
    }
   ],
   "source": [
    "throw_a_coin(0)"
   ]
  },
  {
   "cell_type": "markdown",
   "metadata": {
    "button": false,
    "new_sheet": false,
    "run_control": {
     "read_only": false
    }
   },
   "source": [
    "Great!  If we give it positive values of $N$ we should get that number of 'H's and 'T's."
   ]
  },
  {
   "cell_type": "code",
   "execution_count": 23,
   "metadata": {
    "button": false,
    "new_sheet": false,
    "run_control": {
     "read_only": false
    }
   },
   "outputs": [
    {
     "data": {
      "text/plain": [
       "array(['H', 'H', 'H', 'T', 'H'], dtype='<U1')"
      ]
     },
     "execution_count": 23,
     "metadata": {},
     "output_type": "execute_result"
    }
   ],
   "source": [
    "throw_a_coin(5)"
   ]
  },
  {
   "cell_type": "code",
   "execution_count": 24,
   "metadata": {
    "button": false,
    "new_sheet": false,
    "run_control": {
     "read_only": false
    }
   },
   "outputs": [
    {
     "data": {
      "text/plain": [
       "array(['H', 'H', 'H', 'H', 'H', 'H', 'H', 'H'], dtype='<U1')"
      ]
     },
     "execution_count": 24,
     "metadata": {},
     "output_type": "execute_result"
    }
   ],
   "source": [
    "throw_a_coin(8)"
   ]
  },
  {
   "cell_type": "markdown",
   "metadata": {
    "button": false,
    "new_sheet": false,
    "run_control": {
     "read_only": false
    }
   },
   "source": [
    "Exactly what we expected!  \n",
    "\n",
    "What happens if the input isn't a positive integer though?"
   ]
  },
  {
   "cell_type": "code",
   "execution_count": 25,
   "metadata": {
    "button": false,
    "new_sheet": false,
    "run_control": {
     "read_only": false
    }
   },
   "outputs": [
    {
     "ename": "TypeError",
     "evalue": "'float' object cannot be interpreted as an integer",
     "output_type": "error",
     "traceback": [
      "\u001b[0;31m---------------------------------------------------------------------------\u001b[0m",
      "\u001b[0;31mTypeError\u001b[0m                                 Traceback (most recent call last)",
      "\u001b[0;32m<ipython-input-25-7a98054470df>\u001b[0m in \u001b[0;36m<module>\u001b[0;34m()\u001b[0m\n\u001b[0;32m----> 1\u001b[0;31m \u001b[0mthrow_a_coin\u001b[0m\u001b[0;34m(\u001b[0m\u001b[0;36m4.5\u001b[0m\u001b[0;34m)\u001b[0m\u001b[0;34m\u001b[0m\u001b[0m\n\u001b[0m",
      "\u001b[0;32m<ipython-input-21-9b62022d816e>\u001b[0m in \u001b[0;36mthrow_a_coin\u001b[0;34m(N)\u001b[0m\n\u001b[1;32m      1\u001b[0m \u001b[0;32mdef\u001b[0m \u001b[0mthrow_a_coin\u001b[0m\u001b[0;34m(\u001b[0m\u001b[0mN\u001b[0m\u001b[0;34m)\u001b[0m\u001b[0;34m:\u001b[0m\u001b[0;34m\u001b[0m\u001b[0m\n\u001b[0;32m----> 2\u001b[0;31m     \u001b[0;32mreturn\u001b[0m \u001b[0mnp\u001b[0m\u001b[0;34m.\u001b[0m\u001b[0mrandom\u001b[0m\u001b[0;34m.\u001b[0m\u001b[0mchoice\u001b[0m\u001b[0;34m(\u001b[0m\u001b[0;34m[\u001b[0m\u001b[0;34m'H'\u001b[0m\u001b[0;34m,\u001b[0m\u001b[0;34m'T'\u001b[0m\u001b[0;34m]\u001b[0m\u001b[0;34m,\u001b[0m \u001b[0msize\u001b[0m\u001b[0;34m=\u001b[0m\u001b[0mN\u001b[0m\u001b[0;34m)\u001b[0m\u001b[0;34m\u001b[0m\u001b[0m\n\u001b[0m",
      "\u001b[0;32mmtrand.pyx\u001b[0m in \u001b[0;36mmtrand.RandomState.choice\u001b[0;34m()\u001b[0m\n",
      "\u001b[0;32mmtrand.pyx\u001b[0m in \u001b[0;36mmtrand.RandomState.randint\u001b[0;34m()\u001b[0m\n",
      "\u001b[0;32mmtrand.pyx\u001b[0m in \u001b[0;36mmtrand.RandomState.randint\u001b[0;34m()\u001b[0m\n",
      "\u001b[0;32mrandint_helpers.pxi\u001b[0m in \u001b[0;36mmtrand._rand_int64\u001b[0;34m()\u001b[0m\n",
      "\u001b[0;31mTypeError\u001b[0m: 'float' object cannot be interpreted as an integer"
     ]
    }
   ],
   "source": [
    "throw_a_coin(4.5)"
   ]
  },
  {
   "cell_type": "markdown",
   "metadata": {
    "run_control": {}
   },
   "source": [
    "or "
   ]
  },
  {
   "cell_type": "code",
   "execution_count": 26,
   "metadata": {
    "button": false,
    "new_sheet": false,
    "run_control": {
     "read_only": false
    }
   },
   "outputs": [
    {
     "ename": "ValueError",
     "evalue": "negative dimensions are not allowed",
     "output_type": "error",
     "traceback": [
      "\u001b[0;31m---------------------------------------------------------------------------\u001b[0m",
      "\u001b[0;31mValueError\u001b[0m                                Traceback (most recent call last)",
      "\u001b[0;32m<ipython-input-26-8560c28a4e91>\u001b[0m in \u001b[0;36m<module>\u001b[0;34m()\u001b[0m\n\u001b[0;32m----> 1\u001b[0;31m \u001b[0mthrow_a_coin\u001b[0m\u001b[0;34m(\u001b[0m\u001b[0;34m-\u001b[0m\u001b[0;36m4\u001b[0m\u001b[0;34m)\u001b[0m\u001b[0;34m\u001b[0m\u001b[0m\n\u001b[0m",
      "\u001b[0;32m<ipython-input-21-9b62022d816e>\u001b[0m in \u001b[0;36mthrow_a_coin\u001b[0;34m(N)\u001b[0m\n\u001b[1;32m      1\u001b[0m \u001b[0;32mdef\u001b[0m \u001b[0mthrow_a_coin\u001b[0m\u001b[0;34m(\u001b[0m\u001b[0mN\u001b[0m\u001b[0;34m)\u001b[0m\u001b[0;34m:\u001b[0m\u001b[0;34m\u001b[0m\u001b[0m\n\u001b[0;32m----> 2\u001b[0;31m     \u001b[0;32mreturn\u001b[0m \u001b[0mnp\u001b[0m\u001b[0;34m.\u001b[0m\u001b[0mrandom\u001b[0m\u001b[0;34m.\u001b[0m\u001b[0mchoice\u001b[0m\u001b[0;34m(\u001b[0m\u001b[0;34m[\u001b[0m\u001b[0;34m'H'\u001b[0m\u001b[0;34m,\u001b[0m\u001b[0;34m'T'\u001b[0m\u001b[0;34m]\u001b[0m\u001b[0;34m,\u001b[0m \u001b[0msize\u001b[0m\u001b[0;34m=\u001b[0m\u001b[0mN\u001b[0m\u001b[0;34m)\u001b[0m\u001b[0;34m\u001b[0m\u001b[0m\n\u001b[0m",
      "\u001b[0;32mmtrand.pyx\u001b[0m in \u001b[0;36mmtrand.RandomState.choice\u001b[0;34m()\u001b[0m\n",
      "\u001b[0;32mmtrand.pyx\u001b[0m in \u001b[0;36mmtrand.RandomState.randint\u001b[0;34m()\u001b[0m\n",
      "\u001b[0;32mmtrand.pyx\u001b[0m in \u001b[0;36mmtrand.RandomState.randint\u001b[0;34m()\u001b[0m\n",
      "\u001b[0;32mrandint_helpers.pxi\u001b[0m in \u001b[0;36mmtrand._rand_int64\u001b[0;34m()\u001b[0m\n",
      "\u001b[0;31mValueError\u001b[0m: negative dimensions are not allowed"
     ]
    }
   ],
   "source": [
    "throw_a_coin(-4)"
   ]
  },
  {
   "cell_type": "markdown",
   "metadata": {
    "button": false,
    "new_sheet": false,
    "run_control": {
     "read_only": false
    }
   },
   "source": [
    "It looks like for both real numbers and negative numbers, we get two kinds of errors a `TypeError` and a `ValueError`.  We just engaged in one of the most rudimentary forms of testing, trial and error.  We can use pytest to automate this process by writing some functions that will automatically (and potentially repeatedly) test individual units of our code methodology.  These are called ***unit tests***.\n",
    "\n",
    "Before we write our tests, let's consider what we would think of as the approrpriate behavior for `throw_a_coin` under the conditions we considered above.  If `throw_a_coin` receives positive integer input, we want it to behave exactly as it currently does -- returning an output consisting of a list of characters 'H' or 'T' with the length of the list equal to the positive integer input. For a positive floating point input, we want `throw_a_coin_properly` to treat the input as if it were rounded down to the nearest integer thus returning a list of 'H' or 'T' integers whose length is the same as the input rounded down to the next highest integer.  For a any negative number input or an input of 0, we want `throw_a_coin_properly` to return an empty list."
   ]
  },
  {
   "cell_type": "markdown",
   "metadata": {
    "button": false,
    "new_sheet": false,
    "run_control": {
     "read_only": false
    }
   },
   "source": [
    "We create pytest tests by writing functions that start or end with \"test\".  We'll use the **convention** that our tests will start with \"test\".  \n",
    "\n",
    "We begin the code cell with ipytest's clean_tests function as a way to clear out the results of previous tests starting with \"test_throw_a_coin\" (the * is the standard wild card charater here).\n",
    "\n"
   ]
  },
  {
   "cell_type": "code",
   "execution_count": 27,
   "metadata": {
    "button": false,
    "new_sheet": false,
    "run_control": {
     "read_only": false
    }
   },
   "outputs": [
    {
     "name": "stderr",
     "output_type": "stream",
     "text": [
      "unittest.case.FunctionTestCase (test_throw_a_coin_float) ... ERROR\n",
      "unittest.case.FunctionTestCase (test_throw_a_coin_length_positive) ... ok\n",
      "unittest.case.FunctionTestCase (test_throw_a_coin_length_zero) ... ok\n",
      "unittest.case.FunctionTestCase (test_throw_a_coin_negative) ... ERROR\n",
      "\n",
      "======================================================================\n",
      "ERROR: unittest.case.FunctionTestCase (test_throw_a_coin_float)\n",
      "----------------------------------------------------------------------\n",
      "Traceback (most recent call last):\n",
      "  File \"<ipython-input-27-78a86d656b91>\", line 22, in test_throw_a_coin_float\n",
      "    assert len(throw_a_coin(n)) == np.floor(n)\n",
      "  File \"<ipython-input-21-9b62022d816e>\", line 2, in throw_a_coin\n",
      "    return np.random.choice(['H','T'], size=N)\n",
      "  File \"mtrand.pyx\", line 1163, in mtrand.RandomState.choice\n",
      "  File \"mtrand.pyx\", line 995, in mtrand.RandomState.randint\n",
      "  File \"mtrand.pyx\", line 996, in mtrand.RandomState.randint\n",
      "  File \"randint_helpers.pxi\", line 253, in mtrand._rand_int64\n",
      "TypeError: 'numpy.float64' object cannot be interpreted as an integer\n",
      "\n",
      "======================================================================\n",
      "ERROR: unittest.case.FunctionTestCase (test_throw_a_coin_negative)\n",
      "----------------------------------------------------------------------\n",
      "Traceback (most recent call last):\n",
      "  File \"<ipython-input-27-78a86d656b91>\", line 28, in test_throw_a_coin_negative\n",
      "    assert len(throw_a_coin(n)) == 0\n",
      "  File \"<ipython-input-21-9b62022d816e>\", line 2, in throw_a_coin\n",
      "    return np.random.choice(['H','T'], size=N)\n",
      "  File \"mtrand.pyx\", line 1163, in mtrand.RandomState.choice\n",
      "  File \"mtrand.pyx\", line 995, in mtrand.RandomState.randint\n",
      "  File \"mtrand.pyx\", line 996, in mtrand.RandomState.randint\n",
      "  File \"randint_helpers.pxi\", line 253, in mtrand._rand_int64\n",
      "ValueError: negative dimensions are not allowed\n",
      "\n",
      "----------------------------------------------------------------------\n",
      "Ran 4 tests in 0.010s\n",
      "\n",
      "FAILED (errors=2)\n"
     ]
    }
   ],
   "source": [
    "## the * after test_throw_a_coin tells this code cell to clean out the results\n",
    "## of all tests starting with test_throw_a_coin\n",
    "ipytest.clean_tests(\"test_throw_a_coin*\")\n",
    "\n",
    "## run throw_a_coin with a variety of positive integer inputs (all numbers between 1 and 20) and\n",
    "## verify that the length of the output list (e.g ['H', 'H', 'T', 'H', 'T']) matches the input integer\n",
    "def test_throw_a_coin_length_positive():\n",
    "    for n in range(1,20):\n",
    "        assert len(throw_a_coin(n)) == n\n",
    "\n",
    "## verify that throw_a_coin produces an empty list (i.e. a list of length 0) if provide with an input\n",
    "## of 0\n",
    "def test_throw_a_coin_length_zero():\n",
    "    ## should be the empty array\n",
    "    assert len(throw_a_coin(0)) == 0\n",
    "    \n",
    "\n",
    "## verify that given a positive floating point input (i.e. 4.34344298547201), throw_a_coin produces a list of\n",
    "## coin flips of length equal to highest integer less than the input\n",
    "def test_throw_a_coin_float():\n",
    "    for n in np.random.exponential(7, size=5):\n",
    "        assert len(throw_a_coin(n)) == np.floor(n)\n",
    "        \n",
    "\n",
    "## verify that given any negative input (e.g. -323.4), throw_a_coin produces an empty\n",
    "def test_throw_a_coin_negative():\n",
    "    for n in range(-7, 0):\n",
    "        assert len(throw_a_coin(n)) == 0\n",
    "\n",
    "        \n",
    "ipytest.run_tests()"
   ]
  },
  {
   "cell_type": "markdown",
   "metadata": {
    "button": false,
    "new_sheet": false,
    "run_control": {
     "read_only": false
    }
   },
   "source": [
    "As you see, we were able to use pytest (and ipytest which allows us to run pytest tests in our ipython notebooks) to automate the tests that we constructed manually before and get the same errors and successes.  Now time to fix our code and write our own test!"
   ]
  },
  {
   "cell_type": "markdown",
   "metadata": {
    "button": false,
    "new_sheet": false,
    "run_control": {
     "read_only": false
    }
   },
   "source": [
    "### <p class='q1'> Question 5: You Better Test Yourself before You Wreck Yourself! </p>\n",
    "\n",
    "Now it's time to fix `throw_a_coin` so that it passes the tests we've written above as well as add our own test to the mix!\n",
    "\n",
    "**5.1**. Write a new function called `throw_a_coin_properly` that will pass the tests that we saw above.  For your convenience we'll provide a new jupyter notebook cell with the tests rewritten for the new function.  All the tests should pass.  For a positive floating point input, we want `throw_a_coin_properly` to treat the input as if it were rounded down to the nearest integer.  For a any negative number input, we want `throw_a_coin_properly` to treat the input as if it were 0.\n",
    "\n",
    "**5.2**. Write a new test for `throw_a_coin_properly` that verifies that all the elements of the resultant arrays are 'H' or 'T'."
   ]
  },
  {
   "cell_type": "markdown",
   "metadata": {
    "button": false,
    "new_sheet": false,
    "run_control": {
     "read_only": false
    }
   },
   "source": [
    "#### Answers"
   ]
  },
  {
   "cell_type": "markdown",
   "metadata": {
    "button": false,
    "new_sheet": false,
    "run_control": {
     "read_only": false
    }
   },
   "source": [
    "**5.1**"
   ]
  },
  {
   "cell_type": "code",
   "execution_count": 28,
   "metadata": {
    "button": false,
    "new_sheet": false,
    "run_control": {
     "read_only": false
    }
   },
   "outputs": [],
   "source": [
    "def throw_a_coin_properly(n_trials):\n",
    "    if n_trials < 0:\n",
    "        return np.random.choice(['H','T'], size=0)\n",
    "    elif isinstance(n_trials, int):\n",
    "        return np.random.choice(['H','T'], size=n_trials)\n",
    "    else:\n",
    "        return np.random.choice(['H','T'], size=int(np.floor(n_trials)))"
   ]
  },
  {
   "cell_type": "code",
   "execution_count": 29,
   "metadata": {
    "button": false,
    "new_sheet": false,
    "run_control": {
     "read_only": false
    }
   },
   "outputs": [
    {
     "name": "stderr",
     "output_type": "stream",
     "text": [
      "unittest.case.FunctionTestCase (test_throw_a_coin_properly_float) ... ok\n",
      "unittest.case.FunctionTestCase (test_throw_a_coin_properly_length_positive) ... ok\n",
      "unittest.case.FunctionTestCase (test_throw_a_coin_properly_length_zero) ... ok\n",
      "unittest.case.FunctionTestCase (test_throw_a_coin_properly_negative) ... ok\n",
      "\n",
      "----------------------------------------------------------------------\n",
      "Ran 4 tests in 0.008s\n",
      "\n",
      "OK\n"
     ]
    }
   ],
   "source": [
    "ipytest.clean_tests(\"test_throw_a_coin*\")\n",
    "\n",
    "def test_throw_a_coin_properly_length_positive():\n",
    "    for n in range(1,20):\n",
    "        assert len(throw_a_coin_properly(n)) == n\n",
    "        \n",
    "\n",
    "def test_throw_a_coin_properly_length_zero():\n",
    "    ## should be the empty array\n",
    "    assert len(throw_a_coin_properly(0)) == 0\n",
    "    \n",
    "\n",
    "def test_throw_a_coin_properly_float():\n",
    "    \n",
    "    for n in np.random.exponential(7, size=5):\n",
    "        assert len(throw_a_coin_properly(n)) == np.floor(n)\n",
    "        \n",
    "\n",
    "def test_throw_a_coin_properly_negative():\n",
    "    \n",
    "    for n in range(-7, 0):\n",
    "        assert len(throw_a_coin_properly(n)) == 0\n",
    "\n",
    "        \n",
    "ipytest.run_tests()"
   ]
  },
  {
   "cell_type": "markdown",
   "metadata": {
    "button": false,
    "new_sheet": false,
    "run_control": {
     "read_only": false
    }
   },
   "source": [
    "**5.2** "
   ]
  },
  {
   "cell_type": "code",
   "execution_count": 31,
   "metadata": {
    "button": false,
    "new_sheet": false,
    "run_control": {
     "read_only": false
    }
   },
   "outputs": [
    {
     "name": "stderr",
     "output_type": "stream",
     "text": [
      "unittest.case.FunctionTestCase (test_throw_a_coin_properly_verify_H_T) ... ok\n",
      "\n",
      "----------------------------------------------------------------------\n",
      "Ran 1 test in 0.001s\n",
      "\n",
      "OK\n"
     ]
    }
   ],
   "source": [
    "ipytest.clean_tests(\"test_throw_a_coin*\")\n",
    "\n",
    "## write a test that verifies you don't have any other elements except H's and T's\n",
    "def test_throw_a_coin_properly_verify_H_T():\n",
    "    assert all(y in ('T', 'H') for y in throw_a_coin_properly(100))\n",
    "        \n",
    "ipytest.run_tests()"
   ]
  },
  {
   "cell_type": "markdown",
   "metadata": {},
   "source": []
  }
 ],
 "metadata": {
  "anaconda-cloud": {},
  "celltoolbar": "Raw Cell Format",
  "css": "cs109.css",
  "kernelspec": {
   "display_name": "Python 3",
   "language": "python",
   "name": "python3"
  },
  "language_info": {
   "codemirror_mode": {
    "name": "ipython",
    "version": 3
   },
   "file_extension": ".py",
   "mimetype": "text/x-python",
   "name": "python",
   "nbconvert_exporter": "python",
   "pygments_lexer": "ipython3",
   "version": "3.6.5"
  }
 },
 "nbformat": 4,
 "nbformat_minor": 2
}
